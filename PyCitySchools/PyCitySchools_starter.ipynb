{
 "cells": [
  {
   "cell_type": "markdown",
   "metadata": {},
   "source": [
    "### Note\n",
    "* Instructions have been included for each segment. You do not have to follow them exactly, but they are included to help you think through the steps."
   ]
  },
  {
   "cell_type": "code",
   "execution_count": 99,
   "metadata": {},
   "outputs": [
    {
     "data": {
      "text/html": [
       "<style  type=\"text/css\" >\n",
       "</style><table id=\"T_dc9b8cde_b356_11eb_931e_3c58c2c9efae\" ><thead>    <tr>        <th class=\"col_heading level0 col0\" >Student ID</th>        <th class=\"col_heading level0 col1\" >student_name</th>        <th class=\"col_heading level0 col2\" >gender</th>        <th class=\"col_heading level0 col3\" >grade</th>        <th class=\"col_heading level0 col4\" >school_name</th>        <th class=\"col_heading level0 col5\" >reading_score</th>        <th class=\"col_heading level0 col6\" >math_score</th>        <th class=\"col_heading level0 col7\" >School ID</th>        <th class=\"col_heading level0 col8\" >type</th>        <th class=\"col_heading level0 col9\" >size</th>        <th class=\"col_heading level0 col10\" >budget</th>    </tr></thead><tbody>\n",
       "                <tr>\n",
       "                                <td id=\"T_dc9b8cde_b356_11eb_931e_3c58c2c9efaerow0_col0\" class=\"data row0 col0\" >0</td>\n",
       "                        <td id=\"T_dc9b8cde_b356_11eb_931e_3c58c2c9efaerow0_col1\" class=\"data row0 col1\" >Paul Bradley</td>\n",
       "                        <td id=\"T_dc9b8cde_b356_11eb_931e_3c58c2c9efaerow0_col2\" class=\"data row0 col2\" >M</td>\n",
       "                        <td id=\"T_dc9b8cde_b356_11eb_931e_3c58c2c9efaerow0_col3\" class=\"data row0 col3\" >9th</td>\n",
       "                        <td id=\"T_dc9b8cde_b356_11eb_931e_3c58c2c9efaerow0_col4\" class=\"data row0 col4\" >Huang High School</td>\n",
       "                        <td id=\"T_dc9b8cde_b356_11eb_931e_3c58c2c9efaerow0_col5\" class=\"data row0 col5\" >66</td>\n",
       "                        <td id=\"T_dc9b8cde_b356_11eb_931e_3c58c2c9efaerow0_col6\" class=\"data row0 col6\" >79</td>\n",
       "                        <td id=\"T_dc9b8cde_b356_11eb_931e_3c58c2c9efaerow0_col7\" class=\"data row0 col7\" >0</td>\n",
       "                        <td id=\"T_dc9b8cde_b356_11eb_931e_3c58c2c9efaerow0_col8\" class=\"data row0 col8\" >District</td>\n",
       "                        <td id=\"T_dc9b8cde_b356_11eb_931e_3c58c2c9efaerow0_col9\" class=\"data row0 col9\" >2917</td>\n",
       "                        <td id=\"T_dc9b8cde_b356_11eb_931e_3c58c2c9efaerow0_col10\" class=\"data row0 col10\" >1910635</td>\n",
       "            </tr>\n",
       "            <tr>\n",
       "                                <td id=\"T_dc9b8cde_b356_11eb_931e_3c58c2c9efaerow1_col0\" class=\"data row1 col0\" >1</td>\n",
       "                        <td id=\"T_dc9b8cde_b356_11eb_931e_3c58c2c9efaerow1_col1\" class=\"data row1 col1\" >Victor Smith</td>\n",
       "                        <td id=\"T_dc9b8cde_b356_11eb_931e_3c58c2c9efaerow1_col2\" class=\"data row1 col2\" >M</td>\n",
       "                        <td id=\"T_dc9b8cde_b356_11eb_931e_3c58c2c9efaerow1_col3\" class=\"data row1 col3\" >12th</td>\n",
       "                        <td id=\"T_dc9b8cde_b356_11eb_931e_3c58c2c9efaerow1_col4\" class=\"data row1 col4\" >Huang High School</td>\n",
       "                        <td id=\"T_dc9b8cde_b356_11eb_931e_3c58c2c9efaerow1_col5\" class=\"data row1 col5\" >94</td>\n",
       "                        <td id=\"T_dc9b8cde_b356_11eb_931e_3c58c2c9efaerow1_col6\" class=\"data row1 col6\" >61</td>\n",
       "                        <td id=\"T_dc9b8cde_b356_11eb_931e_3c58c2c9efaerow1_col7\" class=\"data row1 col7\" >0</td>\n",
       "                        <td id=\"T_dc9b8cde_b356_11eb_931e_3c58c2c9efaerow1_col8\" class=\"data row1 col8\" >District</td>\n",
       "                        <td id=\"T_dc9b8cde_b356_11eb_931e_3c58c2c9efaerow1_col9\" class=\"data row1 col9\" >2917</td>\n",
       "                        <td id=\"T_dc9b8cde_b356_11eb_931e_3c58c2c9efaerow1_col10\" class=\"data row1 col10\" >1910635</td>\n",
       "            </tr>\n",
       "            <tr>\n",
       "                                <td id=\"T_dc9b8cde_b356_11eb_931e_3c58c2c9efaerow2_col0\" class=\"data row2 col0\" >2</td>\n",
       "                        <td id=\"T_dc9b8cde_b356_11eb_931e_3c58c2c9efaerow2_col1\" class=\"data row2 col1\" >Kevin Rodriguez</td>\n",
       "                        <td id=\"T_dc9b8cde_b356_11eb_931e_3c58c2c9efaerow2_col2\" class=\"data row2 col2\" >M</td>\n",
       "                        <td id=\"T_dc9b8cde_b356_11eb_931e_3c58c2c9efaerow2_col3\" class=\"data row2 col3\" >12th</td>\n",
       "                        <td id=\"T_dc9b8cde_b356_11eb_931e_3c58c2c9efaerow2_col4\" class=\"data row2 col4\" >Huang High School</td>\n",
       "                        <td id=\"T_dc9b8cde_b356_11eb_931e_3c58c2c9efaerow2_col5\" class=\"data row2 col5\" >90</td>\n",
       "                        <td id=\"T_dc9b8cde_b356_11eb_931e_3c58c2c9efaerow2_col6\" class=\"data row2 col6\" >60</td>\n",
       "                        <td id=\"T_dc9b8cde_b356_11eb_931e_3c58c2c9efaerow2_col7\" class=\"data row2 col7\" >0</td>\n",
       "                        <td id=\"T_dc9b8cde_b356_11eb_931e_3c58c2c9efaerow2_col8\" class=\"data row2 col8\" >District</td>\n",
       "                        <td id=\"T_dc9b8cde_b356_11eb_931e_3c58c2c9efaerow2_col9\" class=\"data row2 col9\" >2917</td>\n",
       "                        <td id=\"T_dc9b8cde_b356_11eb_931e_3c58c2c9efaerow2_col10\" class=\"data row2 col10\" >1910635</td>\n",
       "            </tr>\n",
       "            <tr>\n",
       "                                <td id=\"T_dc9b8cde_b356_11eb_931e_3c58c2c9efaerow3_col0\" class=\"data row3 col0\" >3</td>\n",
       "                        <td id=\"T_dc9b8cde_b356_11eb_931e_3c58c2c9efaerow3_col1\" class=\"data row3 col1\" >Dr. Richard Scott</td>\n",
       "                        <td id=\"T_dc9b8cde_b356_11eb_931e_3c58c2c9efaerow3_col2\" class=\"data row3 col2\" >M</td>\n",
       "                        <td id=\"T_dc9b8cde_b356_11eb_931e_3c58c2c9efaerow3_col3\" class=\"data row3 col3\" >12th</td>\n",
       "                        <td id=\"T_dc9b8cde_b356_11eb_931e_3c58c2c9efaerow3_col4\" class=\"data row3 col4\" >Huang High School</td>\n",
       "                        <td id=\"T_dc9b8cde_b356_11eb_931e_3c58c2c9efaerow3_col5\" class=\"data row3 col5\" >67</td>\n",
       "                        <td id=\"T_dc9b8cde_b356_11eb_931e_3c58c2c9efaerow3_col6\" class=\"data row3 col6\" >58</td>\n",
       "                        <td id=\"T_dc9b8cde_b356_11eb_931e_3c58c2c9efaerow3_col7\" class=\"data row3 col7\" >0</td>\n",
       "                        <td id=\"T_dc9b8cde_b356_11eb_931e_3c58c2c9efaerow3_col8\" class=\"data row3 col8\" >District</td>\n",
       "                        <td id=\"T_dc9b8cde_b356_11eb_931e_3c58c2c9efaerow3_col9\" class=\"data row3 col9\" >2917</td>\n",
       "                        <td id=\"T_dc9b8cde_b356_11eb_931e_3c58c2c9efaerow3_col10\" class=\"data row3 col10\" >1910635</td>\n",
       "            </tr>\n",
       "            <tr>\n",
       "                                <td id=\"T_dc9b8cde_b356_11eb_931e_3c58c2c9efaerow4_col0\" class=\"data row4 col0\" >4</td>\n",
       "                        <td id=\"T_dc9b8cde_b356_11eb_931e_3c58c2c9efaerow4_col1\" class=\"data row4 col1\" >Bonnie Ray</td>\n",
       "                        <td id=\"T_dc9b8cde_b356_11eb_931e_3c58c2c9efaerow4_col2\" class=\"data row4 col2\" >F</td>\n",
       "                        <td id=\"T_dc9b8cde_b356_11eb_931e_3c58c2c9efaerow4_col3\" class=\"data row4 col3\" >9th</td>\n",
       "                        <td id=\"T_dc9b8cde_b356_11eb_931e_3c58c2c9efaerow4_col4\" class=\"data row4 col4\" >Huang High School</td>\n",
       "                        <td id=\"T_dc9b8cde_b356_11eb_931e_3c58c2c9efaerow4_col5\" class=\"data row4 col5\" >97</td>\n",
       "                        <td id=\"T_dc9b8cde_b356_11eb_931e_3c58c2c9efaerow4_col6\" class=\"data row4 col6\" >84</td>\n",
       "                        <td id=\"T_dc9b8cde_b356_11eb_931e_3c58c2c9efaerow4_col7\" class=\"data row4 col7\" >0</td>\n",
       "                        <td id=\"T_dc9b8cde_b356_11eb_931e_3c58c2c9efaerow4_col8\" class=\"data row4 col8\" >District</td>\n",
       "                        <td id=\"T_dc9b8cde_b356_11eb_931e_3c58c2c9efaerow4_col9\" class=\"data row4 col9\" >2917</td>\n",
       "                        <td id=\"T_dc9b8cde_b356_11eb_931e_3c58c2c9efaerow4_col10\" class=\"data row4 col10\" >1910635</td>\n",
       "            </tr>\n",
       "            <tr>\n",
       "                                <td id=\"T_dc9b8cde_b356_11eb_931e_3c58c2c9efaerow5_col0\" class=\"data row5 col0\" >5</td>\n",
       "                        <td id=\"T_dc9b8cde_b356_11eb_931e_3c58c2c9efaerow5_col1\" class=\"data row5 col1\" >Bryan Miranda</td>\n",
       "                        <td id=\"T_dc9b8cde_b356_11eb_931e_3c58c2c9efaerow5_col2\" class=\"data row5 col2\" >M</td>\n",
       "                        <td id=\"T_dc9b8cde_b356_11eb_931e_3c58c2c9efaerow5_col3\" class=\"data row5 col3\" >9th</td>\n",
       "                        <td id=\"T_dc9b8cde_b356_11eb_931e_3c58c2c9efaerow5_col4\" class=\"data row5 col4\" >Huang High School</td>\n",
       "                        <td id=\"T_dc9b8cde_b356_11eb_931e_3c58c2c9efaerow5_col5\" class=\"data row5 col5\" >94</td>\n",
       "                        <td id=\"T_dc9b8cde_b356_11eb_931e_3c58c2c9efaerow5_col6\" class=\"data row5 col6\" >94</td>\n",
       "                        <td id=\"T_dc9b8cde_b356_11eb_931e_3c58c2c9efaerow5_col7\" class=\"data row5 col7\" >0</td>\n",
       "                        <td id=\"T_dc9b8cde_b356_11eb_931e_3c58c2c9efaerow5_col8\" class=\"data row5 col8\" >District</td>\n",
       "                        <td id=\"T_dc9b8cde_b356_11eb_931e_3c58c2c9efaerow5_col9\" class=\"data row5 col9\" >2917</td>\n",
       "                        <td id=\"T_dc9b8cde_b356_11eb_931e_3c58c2c9efaerow5_col10\" class=\"data row5 col10\" >1910635</td>\n",
       "            </tr>\n",
       "            <tr>\n",
       "                                <td id=\"T_dc9b8cde_b356_11eb_931e_3c58c2c9efaerow6_col0\" class=\"data row6 col0\" >6</td>\n",
       "                        <td id=\"T_dc9b8cde_b356_11eb_931e_3c58c2c9efaerow6_col1\" class=\"data row6 col1\" >Sheena Carter</td>\n",
       "                        <td id=\"T_dc9b8cde_b356_11eb_931e_3c58c2c9efaerow6_col2\" class=\"data row6 col2\" >F</td>\n",
       "                        <td id=\"T_dc9b8cde_b356_11eb_931e_3c58c2c9efaerow6_col3\" class=\"data row6 col3\" >11th</td>\n",
       "                        <td id=\"T_dc9b8cde_b356_11eb_931e_3c58c2c9efaerow6_col4\" class=\"data row6 col4\" >Huang High School</td>\n",
       "                        <td id=\"T_dc9b8cde_b356_11eb_931e_3c58c2c9efaerow6_col5\" class=\"data row6 col5\" >82</td>\n",
       "                        <td id=\"T_dc9b8cde_b356_11eb_931e_3c58c2c9efaerow6_col6\" class=\"data row6 col6\" >80</td>\n",
       "                        <td id=\"T_dc9b8cde_b356_11eb_931e_3c58c2c9efaerow6_col7\" class=\"data row6 col7\" >0</td>\n",
       "                        <td id=\"T_dc9b8cde_b356_11eb_931e_3c58c2c9efaerow6_col8\" class=\"data row6 col8\" >District</td>\n",
       "                        <td id=\"T_dc9b8cde_b356_11eb_931e_3c58c2c9efaerow6_col9\" class=\"data row6 col9\" >2917</td>\n",
       "                        <td id=\"T_dc9b8cde_b356_11eb_931e_3c58c2c9efaerow6_col10\" class=\"data row6 col10\" >1910635</td>\n",
       "            </tr>\n",
       "            <tr>\n",
       "                                <td id=\"T_dc9b8cde_b356_11eb_931e_3c58c2c9efaerow7_col0\" class=\"data row7 col0\" >7</td>\n",
       "                        <td id=\"T_dc9b8cde_b356_11eb_931e_3c58c2c9efaerow7_col1\" class=\"data row7 col1\" >Nicole Baker</td>\n",
       "                        <td id=\"T_dc9b8cde_b356_11eb_931e_3c58c2c9efaerow7_col2\" class=\"data row7 col2\" >F</td>\n",
       "                        <td id=\"T_dc9b8cde_b356_11eb_931e_3c58c2c9efaerow7_col3\" class=\"data row7 col3\" >12th</td>\n",
       "                        <td id=\"T_dc9b8cde_b356_11eb_931e_3c58c2c9efaerow7_col4\" class=\"data row7 col4\" >Huang High School</td>\n",
       "                        <td id=\"T_dc9b8cde_b356_11eb_931e_3c58c2c9efaerow7_col5\" class=\"data row7 col5\" >96</td>\n",
       "                        <td id=\"T_dc9b8cde_b356_11eb_931e_3c58c2c9efaerow7_col6\" class=\"data row7 col6\" >69</td>\n",
       "                        <td id=\"T_dc9b8cde_b356_11eb_931e_3c58c2c9efaerow7_col7\" class=\"data row7 col7\" >0</td>\n",
       "                        <td id=\"T_dc9b8cde_b356_11eb_931e_3c58c2c9efaerow7_col8\" class=\"data row7 col8\" >District</td>\n",
       "                        <td id=\"T_dc9b8cde_b356_11eb_931e_3c58c2c9efaerow7_col9\" class=\"data row7 col9\" >2917</td>\n",
       "                        <td id=\"T_dc9b8cde_b356_11eb_931e_3c58c2c9efaerow7_col10\" class=\"data row7 col10\" >1910635</td>\n",
       "            </tr>\n",
       "            <tr>\n",
       "                                <td id=\"T_dc9b8cde_b356_11eb_931e_3c58c2c9efaerow8_col0\" class=\"data row8 col0\" >8</td>\n",
       "                        <td id=\"T_dc9b8cde_b356_11eb_931e_3c58c2c9efaerow8_col1\" class=\"data row8 col1\" >Michael Roth</td>\n",
       "                        <td id=\"T_dc9b8cde_b356_11eb_931e_3c58c2c9efaerow8_col2\" class=\"data row8 col2\" >M</td>\n",
       "                        <td id=\"T_dc9b8cde_b356_11eb_931e_3c58c2c9efaerow8_col3\" class=\"data row8 col3\" >10th</td>\n",
       "                        <td id=\"T_dc9b8cde_b356_11eb_931e_3c58c2c9efaerow8_col4\" class=\"data row8 col4\" >Huang High School</td>\n",
       "                        <td id=\"T_dc9b8cde_b356_11eb_931e_3c58c2c9efaerow8_col5\" class=\"data row8 col5\" >95</td>\n",
       "                        <td id=\"T_dc9b8cde_b356_11eb_931e_3c58c2c9efaerow8_col6\" class=\"data row8 col6\" >87</td>\n",
       "                        <td id=\"T_dc9b8cde_b356_11eb_931e_3c58c2c9efaerow8_col7\" class=\"data row8 col7\" >0</td>\n",
       "                        <td id=\"T_dc9b8cde_b356_11eb_931e_3c58c2c9efaerow8_col8\" class=\"data row8 col8\" >District</td>\n",
       "                        <td id=\"T_dc9b8cde_b356_11eb_931e_3c58c2c9efaerow8_col9\" class=\"data row8 col9\" >2917</td>\n",
       "                        <td id=\"T_dc9b8cde_b356_11eb_931e_3c58c2c9efaerow8_col10\" class=\"data row8 col10\" >1910635</td>\n",
       "            </tr>\n",
       "            <tr>\n",
       "                                <td id=\"T_dc9b8cde_b356_11eb_931e_3c58c2c9efaerow9_col0\" class=\"data row9 col0\" >9</td>\n",
       "                        <td id=\"T_dc9b8cde_b356_11eb_931e_3c58c2c9efaerow9_col1\" class=\"data row9 col1\" >Matthew Greene</td>\n",
       "                        <td id=\"T_dc9b8cde_b356_11eb_931e_3c58c2c9efaerow9_col2\" class=\"data row9 col2\" >M</td>\n",
       "                        <td id=\"T_dc9b8cde_b356_11eb_931e_3c58c2c9efaerow9_col3\" class=\"data row9 col3\" >10th</td>\n",
       "                        <td id=\"T_dc9b8cde_b356_11eb_931e_3c58c2c9efaerow9_col4\" class=\"data row9 col4\" >Huang High School</td>\n",
       "                        <td id=\"T_dc9b8cde_b356_11eb_931e_3c58c2c9efaerow9_col5\" class=\"data row9 col5\" >96</td>\n",
       "                        <td id=\"T_dc9b8cde_b356_11eb_931e_3c58c2c9efaerow9_col6\" class=\"data row9 col6\" >84</td>\n",
       "                        <td id=\"T_dc9b8cde_b356_11eb_931e_3c58c2c9efaerow9_col7\" class=\"data row9 col7\" >0</td>\n",
       "                        <td id=\"T_dc9b8cde_b356_11eb_931e_3c58c2c9efaerow9_col8\" class=\"data row9 col8\" >District</td>\n",
       "                        <td id=\"T_dc9b8cde_b356_11eb_931e_3c58c2c9efaerow9_col9\" class=\"data row9 col9\" >2917</td>\n",
       "                        <td id=\"T_dc9b8cde_b356_11eb_931e_3c58c2c9efaerow9_col10\" class=\"data row9 col10\" >1910635</td>\n",
       "            </tr>\n",
       "    </tbody></table>"
      ],
      "text/plain": [
       "<pandas.io.formats.style.Styler at 0x1a8c668d1f0>"
      ]
     },
     "execution_count": 99,
     "metadata": {},
     "output_type": "execute_result"
    }
   ],
   "source": [
    "# Dependencies and Setup\n",
    "import pandas as pd\n",
    "import numpy as np\n",
    "\n",
    "# File to Load (Remember to Change These)\n",
    "school_data_to_load = \"Resources/schools_complete.csv\"\n",
    "student_data_to_load = \"Resources/students_complete.csv\"\n",
    "\n",
    "# Read School and Student CSV Data Files via .read_csv method and store into Pandas DataFrames\n",
    "school_data_df = pd.read_csv(school_data_to_load)\n",
    "student_data_df = pd.read_csv(student_data_to_load)\n",
    "\n",
    "# Combine the data via .merge method into a single dataset.  \n",
    "school_data_complete_df = pd.merge(student_data_df, school_data_df, how=\"left\", on=[\"school_name\"])  #Bring in all student data via Left Outer join\n",
    "#school_data_complete_df.head(10) #QUESTION:  Why did we have on=[\"school_name\"] twice in the original?\n",
    "\n",
    "school_data_complete_df.head(10).style.hide_index()"
   ]
  },
  {
   "cell_type": "code",
   "execution_count": 9,
   "metadata": {},
   "outputs": [],
   "source": [
    "#Using relative postion, export df to CSV to review\n",
    "\n",
    "school_data_complete_df.to_csv('From_DF_CSV.csv', encoding='utf-8')  "
   ]
  },
  {
   "cell_type": "markdown",
   "metadata": {},
   "source": [
    "## District Summary\n",
    "\n",
    "* Calculate the total number of schools\n",
    "\n",
    "* Calculate the total number of students\n",
    "\n",
    "* Calculate the total budget\n",
    "\n",
    "* Calculate the average math score \n",
    "\n",
    "* Calculate the average reading score\n",
    "\n",
    "* Calculate the percentage of students with a passing math score (70 or greater)\n",
    "\n",
    "* Calculate the percentage of students with a passing reading score (70 or greater)\n",
    "\n",
    "* Calculate the percentage of students who passed math **and** reading (% Overall Passing)\n",
    "\n",
    "* Create a dataframe to hold the above results\n",
    "\n",
    "* Optional: give the displayed data cleaner formatting"
   ]
  },
  {
   "cell_type": "code",
   "execution_count": 10,
   "metadata": {},
   "outputs": [
    {
     "name": "stdout",
     "output_type": "stream",
     "text": [
      "15\n"
     ]
    }
   ],
   "source": [
    "#District Summary - Calculate the total number of schools\n",
    "#Clean duplicate schools and store in array\n",
    "\n",
    "unique_school_name = school_data_df['school_name'].unique()\n",
    "\n",
    "tot_num_school = len(unique_school_name)\n",
    "\n",
    "print(tot_num_school)  #Returned 15"
   ]
  },
  {
   "cell_type": "code",
   "execution_count": 62,
   "metadata": {},
   "outputs": [
    {
     "name": "stdout",
     "output_type": "stream",
     "text": [
      "39170\n"
     ]
    }
   ],
   "source": [
    "#District Summary - Calculate the total number of students\n",
    "\n",
    "tot_num_student = student_data_df['student_name'].count()\n",
    "\n",
    "print(tot_num_student)\n",
    "\n",
    "#print(type(tot_num_student)) #Returned 39170"
   ]
  },
  {
   "cell_type": "code",
   "execution_count": 61,
   "metadata": {},
   "outputs": [
    {
     "name": "stdout",
     "output_type": "stream",
     "text": [
      "24649428\n"
     ]
    }
   ],
   "source": [
    "#District Summary - Calculate total budget\n",
    "\n",
    "tot_budget_school = school_data_df['budget'].sum()\n",
    "\n",
    "print(tot_budget_school)\n",
    "\n",
    "#print(type(tot_budget_school))  #Returned total school budget "
   ]
  },
  {
   "cell_type": "code",
   "execution_count": 64,
   "metadata": {},
   "outputs": [
    {
     "name": "stdout",
     "output_type": "stream",
     "text": [
      "78.98537145774827\n"
     ]
    }
   ],
   "source": [
    "#District Summary - Calculate average math score\n",
    "\n",
    "avg_math_score_student = student_data_df['math_score'].mean()\n",
    "\n",
    "print(avg_math_score_student)\n",
    "\n",
    "#avg_math_score_student_rd = round(avg_math_score_student, 2)  #Round to 2 decimal points\n",
    "\n",
    "#print(avg_math_score_student_rd)  #Returned average for student math scores"
   ]
  },
  {
   "cell_type": "code",
   "execution_count": 65,
   "metadata": {},
   "outputs": [
    {
     "name": "stdout",
     "output_type": "stream",
     "text": [
      "81.87784018381414\n"
     ]
    }
   ],
   "source": [
    "#District Summary - Calculate average reading score\n",
    "\n",
    "avg_read_score_student = student_data_df['reading_score'].mean()\n",
    "\n",
    "print(avg_read_score_student)\n",
    "\n",
    "#avg_read_score_student_rd = round(avg_read_score_student, 2)  #Round to 2 decimal points\n",
    "\n",
    "#print(avg_read_score_student_rd)  #Returned average for student reading score"
   ]
  },
  {
   "cell_type": "code",
   "execution_count": 22,
   "metadata": {},
   "outputs": [
    {
     "name": "stdout",
     "output_type": "stream",
     "text": [
      "74.98\n"
     ]
    }
   ],
   "source": [
    "#District Summary - percentage of students with a passing math score (70 or greater)\n",
    "\n",
    "#1st find students with math score > 70 and output it to dividend.  \n",
    "#2nd use student_count as the divisor\n",
    "#lastly, set up formula, taking divident/divisor\n",
    "\n",
    "num_stu_passing_math = student_data_df.loc[student_data_df['math_score'] >= 70]['math_score'].count()  #Number of students who has math score 70 or greater.  .loc is used to access row and column specified\n",
    "\n",
    "#print(num_stu_passing_math)\n",
    "\n",
    "percent_stu_passing_math = round((num_stu_passing_math/tot_num_student)*100, 2)  #Round to 2 decimal points\n",
    "\n",
    "print(percent_stu_passing_math)  #returned percent of students with passing math score >= 70"
   ]
  },
  {
   "cell_type": "code",
   "execution_count": 24,
   "metadata": {},
   "outputs": [
    {
     "name": "stdout",
     "output_type": "stream",
     "text": [
      "85.81\n"
     ]
    }
   ],
   "source": [
    "#District Summary - percentage of students with a passing reading score (70 or greater)\n",
    "\n",
    "#1st find students with reading score > 70 and output it to dividend.  \n",
    "#2nd use student_count as the divisor\n",
    "#lastly, set up formula, taking divident/divisor\n",
    "\n",
    "num_stu_passing_read = student_data_df.loc[student_data_df['reading_score'] >= 70]['reading_score'].count()  #Number of students who has reading score 70 or greater.  .loc method is used to access row and column specified\n",
    "\n",
    "# Print(num_stu_passing_read)\n",
    "\n",
    "percent_stu_passing_read = round((num_stu_passing_read/tot_num_student)*100, 2)  # Round to 6 decimal points\n",
    "\n",
    "print(percent_stu_passing_read)  # Returned percent of students with passing math score >= 70"
   ]
  },
  {
   "cell_type": "code",
   "execution_count": 25,
   "metadata": {},
   "outputs": [
    {
     "name": "stdout",
     "output_type": "stream",
     "text": [
      "80.4\n"
     ]
    }
   ],
   "source": [
    "# District Summary - Calculate percentage of students who passed math and reading (% Overall Passing)\n",
    "\n",
    "# Overall Passing Rate Calculations\n",
    "\n",
    "overall_stu_passing_rate = round((percent_stu_passing_read + percent_stu_passing_math) / 2, 2)  # Round to 6 decimal points\n",
    "print(overall_stu_passing_rate)"
   ]
  },
  {
   "cell_type": "code",
   "execution_count": 101,
   "metadata": {},
   "outputs": [
    {
     "data": {
      "text/html": [
       "<div>\n",
       "<style scoped>\n",
       "    .dataframe tbody tr th:only-of-type {\n",
       "        vertical-align: middle;\n",
       "    }\n",
       "\n",
       "    .dataframe tbody tr th {\n",
       "        vertical-align: top;\n",
       "    }\n",
       "\n",
       "    .dataframe thead th {\n",
       "        text-align: right;\n",
       "    }\n",
       "</style>\n",
       "<table border=\"1\" class=\"dataframe\">\n",
       "  <thead>\n",
       "    <tr style=\"text-align: right;\">\n",
       "      <th></th>\n",
       "      <th>Total Schools</th>\n",
       "      <th>Total Students</th>\n",
       "      <th>Total Budget</th>\n",
       "      <th>Average Math Score</th>\n",
       "      <th>Average Reading Score</th>\n",
       "      <th>% Passing Math</th>\n",
       "      <th>% Passing Reading</th>\n",
       "      <th>% Overall Passing Rate</th>\n",
       "    </tr>\n",
       "  </thead>\n",
       "  <tbody>\n",
       "    <tr>\n",
       "      <th>0</th>\n",
       "      <td>15</td>\n",
       "      <td>39170</td>\n",
       "      <td>24649428</td>\n",
       "      <td>78.985371</td>\n",
       "      <td>81.87784</td>\n",
       "      <td>74.98</td>\n",
       "      <td>85.81</td>\n",
       "      <td>80.4</td>\n",
       "    </tr>\n",
       "  </tbody>\n",
       "</table>\n",
       "</div>"
      ],
      "text/plain": [
       "   Total Schools  Total Students  Total Budget  Average Math Score  \\\n",
       "0             15           39170      24649428           78.985371   \n",
       "\n",
       "   Average Reading Score  % Passing Math  % Passing Reading  \\\n",
       "0               81.87784           74.98              85.81   \n",
       "\n",
       "   % Overall Passing Rate  \n",
       "0                    80.4  "
      ]
     },
     "execution_count": 101,
     "metadata": {},
     "output_type": "execute_result"
    }
   ],
   "source": [
    "# Create a dataform with data organized into School District\n",
    "\n",
    "district_summary = pd.DataFrame({\"Total Schools\":[tot_num_school],   # .DataFrame is case sensitive\n",
    "                               \"Total Students\":[tot_num_student],   \n",
    "                               \"Total Budget\": [tot_budget_school],\n",
    "                               \"Average Math Score\":[avg_math_score_student],\n",
    "                               \"Average Reading Score\":[avg_read_score_student],\n",
    "                               \"% Passing Math\":[percent_stu_passing_math],\n",
    "                               \"% Passing Reading\": [percent_stu_passing_read],\n",
    "                               \"% Overall Passing Rate\":[overall_stu_passing_rate]})\n",
    "\n",
    "district_summary.head(5)"
   ]
  },
  {
   "cell_type": "code",
   "execution_count": 102,
   "metadata": {},
   "outputs": [
    {
     "data": {
      "text/html": [
       "<style  type=\"text/css\" >\n",
       "</style><table id=\"T_f9a11496_b356_11eb_8fc3_3c58c2c9efae\" ><thead>    <tr>        <th class=\"col_heading level0 col0\" >Total Schools</th>        <th class=\"col_heading level0 col1\" >Total Students</th>        <th class=\"col_heading level0 col2\" >Total Budget</th>        <th class=\"col_heading level0 col3\" >Average Math Score</th>        <th class=\"col_heading level0 col4\" >Average Reading Score</th>        <th class=\"col_heading level0 col5\" >% Passing Math</th>        <th class=\"col_heading level0 col6\" >% Passing Reading</th>        <th class=\"col_heading level0 col7\" >% Overall Passing Rate</th>    </tr></thead><tbody>\n",
       "                <tr>\n",
       "                                <td id=\"T_f9a11496_b356_11eb_8fc3_3c58c2c9efaerow0_col0\" class=\"data row0 col0\" >15</td>\n",
       "                        <td id=\"T_f9a11496_b356_11eb_8fc3_3c58c2c9efaerow0_col1\" class=\"data row0 col1\" >39,170</td>\n",
       "                        <td id=\"T_f9a11496_b356_11eb_8fc3_3c58c2c9efaerow0_col2\" class=\"data row0 col2\" >$24,649,428</td>\n",
       "                        <td id=\"T_f9a11496_b356_11eb_8fc3_3c58c2c9efaerow0_col3\" class=\"data row0 col3\" >78.99%</td>\n",
       "                        <td id=\"T_f9a11496_b356_11eb_8fc3_3c58c2c9efaerow0_col4\" class=\"data row0 col4\" >81.88%</td>\n",
       "                        <td id=\"T_f9a11496_b356_11eb_8fc3_3c58c2c9efaerow0_col5\" class=\"data row0 col5\" >74.98%</td>\n",
       "                        <td id=\"T_f9a11496_b356_11eb_8fc3_3c58c2c9efaerow0_col6\" class=\"data row0 col6\" >85.81%</td>\n",
       "                        <td id=\"T_f9a11496_b356_11eb_8fc3_3c58c2c9efaerow0_col7\" class=\"data row0 col7\" >80.40%</td>\n",
       "            </tr>\n",
       "    </tbody></table>"
      ],
      "text/plain": [
       "<pandas.io.formats.style.Styler at 0x1a8c45c6070>"
      ]
     },
     "execution_count": 102,
     "metadata": {},
     "output_type": "execute_result"
    }
   ],
   "source": [
    "#Formatting applied to Dataform - district summary\n",
    "\n",
    "district_summary.style.format(pd.DataFrame).hide_index()\n",
    "district_summary[\"Total Students\"] = district_summary[\"Total Students\"].map(\"{:,}\".format)  # Format interable with a comma\n",
    "district_summary[\"Total Budget\"] = district_summary[\"Total Budget\"].map(\"${:,}\".format)  # Format interable with a $ and , \n",
    "district_summary[\"Average Math Score\"] = district_summary[\"Average Math Score\"].map(\"{:.2f}%\".format)  # Format % and round to 2 decimal points\n",
    "district_summary[\"Average Reading Score\"] = district_summary[\"Average Reading Score\"].map(\"{:.2f}%\".format)  # Format % and round to 2 decimal points\n",
    "district_summary[\"% Passing Math\"] = district_summary[\"% Passing Math\"].map(\"{:.2f}%\".format)  # Format % and round to 2 decimal points\n",
    "district_summary[\"% Passing Reading\"] = district_summary[\"% Passing Reading\"].map(\"{:.2f}%\".format)  # Format % and round to 2 decimal points\n",
    "district_summary[\"% Overall Passing Rate\"] = district_summary[\"% Overall Passing Rate\"].map(\"{:.2f}%\".format)  # Format % and round to 2 decimal points\n",
    "\n",
    "district_summary.style.hide_index()  # Use .style.hide_index() to hide index"
   ]
  },
  {
   "cell_type": "markdown",
   "metadata": {},
   "source": [
    "## School Summary"
   ]
  },
  {
   "cell_type": "code",
   "execution_count": null,
   "metadata": {},
   "outputs": [],
   "source": [
    "#District Summary - List school type\n",
    "\n",
    "school_type = school_data_df['type'].unique()\n",
    "\n",
    "print(school_type)  #Returned list of types of School"
   ]
  },
  {
   "cell_type": "markdown",
   "metadata": {},
   "source": [
    "* Create an overview table that summarizes key metrics about each school, including:\n",
    "  * School Name\n",
    "  * School Type\n",
    "  * Total Students\n",
    "  * Total School Budget\n",
    "  * Per Student Budget\n",
    "  * Average Math Score\n",
    "  * Average Reading Score\n",
    "  * % Passing Math\n",
    "  * % Passing Reading\n",
    "  * % Overall Passing (The percentage of students that passed math **and** reading.)\n",
    "  \n",
    "* Create a dataframe to hold the above results"
   ]
  },
  {
   "cell_type": "code",
   "execution_count": null,
   "metadata": {},
   "outputs": [],
   "source": []
  },
  {
   "cell_type": "markdown",
   "metadata": {},
   "source": [
    "## Top Performing Schools (By % Overall Passing)"
   ]
  },
  {
   "cell_type": "markdown",
   "metadata": {},
   "source": [
    "* Sort and display the top five performing schools by % overall passing."
   ]
  },
  {
   "cell_type": "code",
   "execution_count": null,
   "metadata": {
    "scrolled": true
   },
   "outputs": [],
   "source": []
  },
  {
   "cell_type": "markdown",
   "metadata": {},
   "source": [
    "## Bottom Performing Schools (By % Overall Passing)"
   ]
  },
  {
   "cell_type": "markdown",
   "metadata": {},
   "source": [
    "* Sort and display the five worst-performing schools by % overall passing."
   ]
  },
  {
   "cell_type": "code",
   "execution_count": null,
   "metadata": {},
   "outputs": [],
   "source": []
  },
  {
   "cell_type": "markdown",
   "metadata": {},
   "source": [
    "## Math Scores by Grade"
   ]
  },
  {
   "cell_type": "markdown",
   "metadata": {},
   "source": [
    "* Create a table that lists the average Reading Score for students of each grade level (9th, 10th, 11th, 12th) at each school.\n",
    "\n",
    "  * Create a pandas series for each grade. Hint: use a conditional statement.\n",
    "  \n",
    "  * Group each series by school\n",
    "  \n",
    "  * Combine the series into a dataframe\n",
    "  \n",
    "  * Optional: give the displayed data cleaner formatting"
   ]
  },
  {
   "cell_type": "code",
   "execution_count": null,
   "metadata": {},
   "outputs": [],
   "source": []
  },
  {
   "cell_type": "markdown",
   "metadata": {},
   "source": [
    "## Reading Score by Grade "
   ]
  },
  {
   "cell_type": "markdown",
   "metadata": {},
   "source": [
    "* Perform the same operations as above for reading scores"
   ]
  },
  {
   "cell_type": "code",
   "execution_count": null,
   "metadata": {},
   "outputs": [],
   "source": []
  },
  {
   "cell_type": "markdown",
   "metadata": {},
   "source": [
    "## Scores by School Spending"
   ]
  },
  {
   "cell_type": "markdown",
   "metadata": {},
   "source": [
    "* Create a table that breaks down school performances based on average Spending Ranges (Per Student). Use 4 reasonable bins to group school spending. Include in the table each of the following:\n",
    "  * Average Math Score\n",
    "  * Average Reading Score\n",
    "  * % Passing Math\n",
    "  * % Passing Reading\n",
    "  * Overall Passing Rate (Average of the above two)"
   ]
  },
  {
   "cell_type": "code",
   "execution_count": null,
   "metadata": {},
   "outputs": [],
   "source": []
  },
  {
   "cell_type": "markdown",
   "metadata": {},
   "source": [
    "## Scores by School Size"
   ]
  },
  {
   "cell_type": "markdown",
   "metadata": {},
   "source": [
    "* Perform the same operations as above, based on school size."
   ]
  },
  {
   "cell_type": "code",
   "execution_count": null,
   "metadata": {
    "scrolled": true
   },
   "outputs": [],
   "source": []
  },
  {
   "cell_type": "markdown",
   "metadata": {},
   "source": [
    "## Scores by School Type"
   ]
  },
  {
   "cell_type": "markdown",
   "metadata": {},
   "source": [
    "* Perform the same operations as above, based on school type"
   ]
  },
  {
   "cell_type": "code",
   "execution_count": null,
   "metadata": {},
   "outputs": [],
   "source": []
  },
  {
   "cell_type": "code",
   "execution_count": null,
   "metadata": {},
   "outputs": [],
   "source": []
  }
 ],
 "metadata": {
  "anaconda-cloud": {},
  "kernel_info": {
   "name": "python3"
  },
  "kernelspec": {
   "display_name": "Python [conda env:root] *",
   "language": "python",
   "name": "conda-root-py"
  },
  "language_info": {
   "codemirror_mode": {
    "name": "ipython",
    "version": 3
   },
   "file_extension": ".py",
   "mimetype": "text/x-python",
   "name": "python",
   "nbconvert_exporter": "python",
   "pygments_lexer": "ipython3",
   "version": "3.8.5"
  },
  "latex_envs": {
   "LaTeX_envs_menu_present": true,
   "autoclose": false,
   "autocomplete": true,
   "bibliofile": "biblio.bib",
   "cite_by": "apalike",
   "current_citInitial": 1,
   "eqLabelWithNumbers": true,
   "eqNumInitial": 1,
   "hotkeys": {
    "equation": "Ctrl-E",
    "itemize": "Ctrl-I"
   },
   "labels_anchors": false,
   "latex_user_defs": false,
   "report_style_numbering": false,
   "user_envs_cfg": false
  },
  "nteract": {
   "version": "0.8.4"
  }
 },
 "nbformat": 4,
 "nbformat_minor": 4
}

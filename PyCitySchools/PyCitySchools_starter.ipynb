{
 "cells": [
  {
   "cell_type": "markdown",
   "metadata": {},
   "source": [
    "### Note\n",
    "* Instructions have been included for each segment. You do not have to follow them exactly, but they are included to help you think through the steps."
   ]
  },
  {
   "cell_type": "code",
   "execution_count": 81,
   "metadata": {},
   "outputs": [
    {
     "data": {
      "text/html": [
       "<style  type=\"text/css\" >\n",
       "</style><table id=\"T_32eac27f_b531_11eb_80e2_3c58c2c9efae\" ><thead>    <tr>        <th class=\"col_heading level0 col0\" >Student ID</th>        <th class=\"col_heading level0 col1\" >student_name</th>        <th class=\"col_heading level0 col2\" >gender</th>        <th class=\"col_heading level0 col3\" >grade</th>        <th class=\"col_heading level0 col4\" >school_name</th>        <th class=\"col_heading level0 col5\" >reading_score</th>        <th class=\"col_heading level0 col6\" >math_score</th>        <th class=\"col_heading level0 col7\" >School ID</th>        <th class=\"col_heading level0 col8\" >type</th>        <th class=\"col_heading level0 col9\" >size</th>        <th class=\"col_heading level0 col10\" >budget</th>    </tr></thead><tbody>\n",
       "                <tr>\n",
       "                                <td id=\"T_32eac27f_b531_11eb_80e2_3c58c2c9efaerow0_col0\" class=\"data row0 col0\" >0</td>\n",
       "                        <td id=\"T_32eac27f_b531_11eb_80e2_3c58c2c9efaerow0_col1\" class=\"data row0 col1\" >Paul Bradley</td>\n",
       "                        <td id=\"T_32eac27f_b531_11eb_80e2_3c58c2c9efaerow0_col2\" class=\"data row0 col2\" >M</td>\n",
       "                        <td id=\"T_32eac27f_b531_11eb_80e2_3c58c2c9efaerow0_col3\" class=\"data row0 col3\" >9th</td>\n",
       "                        <td id=\"T_32eac27f_b531_11eb_80e2_3c58c2c9efaerow0_col4\" class=\"data row0 col4\" >Huang High School</td>\n",
       "                        <td id=\"T_32eac27f_b531_11eb_80e2_3c58c2c9efaerow0_col5\" class=\"data row0 col5\" >66</td>\n",
       "                        <td id=\"T_32eac27f_b531_11eb_80e2_3c58c2c9efaerow0_col6\" class=\"data row0 col6\" >79</td>\n",
       "                        <td id=\"T_32eac27f_b531_11eb_80e2_3c58c2c9efaerow0_col7\" class=\"data row0 col7\" >0</td>\n",
       "                        <td id=\"T_32eac27f_b531_11eb_80e2_3c58c2c9efaerow0_col8\" class=\"data row0 col8\" >District</td>\n",
       "                        <td id=\"T_32eac27f_b531_11eb_80e2_3c58c2c9efaerow0_col9\" class=\"data row0 col9\" >2917</td>\n",
       "                        <td id=\"T_32eac27f_b531_11eb_80e2_3c58c2c9efaerow0_col10\" class=\"data row0 col10\" >1910635</td>\n",
       "            </tr>\n",
       "            <tr>\n",
       "                                <td id=\"T_32eac27f_b531_11eb_80e2_3c58c2c9efaerow1_col0\" class=\"data row1 col0\" >1</td>\n",
       "                        <td id=\"T_32eac27f_b531_11eb_80e2_3c58c2c9efaerow1_col1\" class=\"data row1 col1\" >Victor Smith</td>\n",
       "                        <td id=\"T_32eac27f_b531_11eb_80e2_3c58c2c9efaerow1_col2\" class=\"data row1 col2\" >M</td>\n",
       "                        <td id=\"T_32eac27f_b531_11eb_80e2_3c58c2c9efaerow1_col3\" class=\"data row1 col3\" >12th</td>\n",
       "                        <td id=\"T_32eac27f_b531_11eb_80e2_3c58c2c9efaerow1_col4\" class=\"data row1 col4\" >Huang High School</td>\n",
       "                        <td id=\"T_32eac27f_b531_11eb_80e2_3c58c2c9efaerow1_col5\" class=\"data row1 col5\" >94</td>\n",
       "                        <td id=\"T_32eac27f_b531_11eb_80e2_3c58c2c9efaerow1_col6\" class=\"data row1 col6\" >61</td>\n",
       "                        <td id=\"T_32eac27f_b531_11eb_80e2_3c58c2c9efaerow1_col7\" class=\"data row1 col7\" >0</td>\n",
       "                        <td id=\"T_32eac27f_b531_11eb_80e2_3c58c2c9efaerow1_col8\" class=\"data row1 col8\" >District</td>\n",
       "                        <td id=\"T_32eac27f_b531_11eb_80e2_3c58c2c9efaerow1_col9\" class=\"data row1 col9\" >2917</td>\n",
       "                        <td id=\"T_32eac27f_b531_11eb_80e2_3c58c2c9efaerow1_col10\" class=\"data row1 col10\" >1910635</td>\n",
       "            </tr>\n",
       "            <tr>\n",
       "                                <td id=\"T_32eac27f_b531_11eb_80e2_3c58c2c9efaerow2_col0\" class=\"data row2 col0\" >2</td>\n",
       "                        <td id=\"T_32eac27f_b531_11eb_80e2_3c58c2c9efaerow2_col1\" class=\"data row2 col1\" >Kevin Rodriguez</td>\n",
       "                        <td id=\"T_32eac27f_b531_11eb_80e2_3c58c2c9efaerow2_col2\" class=\"data row2 col2\" >M</td>\n",
       "                        <td id=\"T_32eac27f_b531_11eb_80e2_3c58c2c9efaerow2_col3\" class=\"data row2 col3\" >12th</td>\n",
       "                        <td id=\"T_32eac27f_b531_11eb_80e2_3c58c2c9efaerow2_col4\" class=\"data row2 col4\" >Huang High School</td>\n",
       "                        <td id=\"T_32eac27f_b531_11eb_80e2_3c58c2c9efaerow2_col5\" class=\"data row2 col5\" >90</td>\n",
       "                        <td id=\"T_32eac27f_b531_11eb_80e2_3c58c2c9efaerow2_col6\" class=\"data row2 col6\" >60</td>\n",
       "                        <td id=\"T_32eac27f_b531_11eb_80e2_3c58c2c9efaerow2_col7\" class=\"data row2 col7\" >0</td>\n",
       "                        <td id=\"T_32eac27f_b531_11eb_80e2_3c58c2c9efaerow2_col8\" class=\"data row2 col8\" >District</td>\n",
       "                        <td id=\"T_32eac27f_b531_11eb_80e2_3c58c2c9efaerow2_col9\" class=\"data row2 col9\" >2917</td>\n",
       "                        <td id=\"T_32eac27f_b531_11eb_80e2_3c58c2c9efaerow2_col10\" class=\"data row2 col10\" >1910635</td>\n",
       "            </tr>\n",
       "            <tr>\n",
       "                                <td id=\"T_32eac27f_b531_11eb_80e2_3c58c2c9efaerow3_col0\" class=\"data row3 col0\" >3</td>\n",
       "                        <td id=\"T_32eac27f_b531_11eb_80e2_3c58c2c9efaerow3_col1\" class=\"data row3 col1\" >Dr. Richard Scott</td>\n",
       "                        <td id=\"T_32eac27f_b531_11eb_80e2_3c58c2c9efaerow3_col2\" class=\"data row3 col2\" >M</td>\n",
       "                        <td id=\"T_32eac27f_b531_11eb_80e2_3c58c2c9efaerow3_col3\" class=\"data row3 col3\" >12th</td>\n",
       "                        <td id=\"T_32eac27f_b531_11eb_80e2_3c58c2c9efaerow3_col4\" class=\"data row3 col4\" >Huang High School</td>\n",
       "                        <td id=\"T_32eac27f_b531_11eb_80e2_3c58c2c9efaerow3_col5\" class=\"data row3 col5\" >67</td>\n",
       "                        <td id=\"T_32eac27f_b531_11eb_80e2_3c58c2c9efaerow3_col6\" class=\"data row3 col6\" >58</td>\n",
       "                        <td id=\"T_32eac27f_b531_11eb_80e2_3c58c2c9efaerow3_col7\" class=\"data row3 col7\" >0</td>\n",
       "                        <td id=\"T_32eac27f_b531_11eb_80e2_3c58c2c9efaerow3_col8\" class=\"data row3 col8\" >District</td>\n",
       "                        <td id=\"T_32eac27f_b531_11eb_80e2_3c58c2c9efaerow3_col9\" class=\"data row3 col9\" >2917</td>\n",
       "                        <td id=\"T_32eac27f_b531_11eb_80e2_3c58c2c9efaerow3_col10\" class=\"data row3 col10\" >1910635</td>\n",
       "            </tr>\n",
       "            <tr>\n",
       "                                <td id=\"T_32eac27f_b531_11eb_80e2_3c58c2c9efaerow4_col0\" class=\"data row4 col0\" >4</td>\n",
       "                        <td id=\"T_32eac27f_b531_11eb_80e2_3c58c2c9efaerow4_col1\" class=\"data row4 col1\" >Bonnie Ray</td>\n",
       "                        <td id=\"T_32eac27f_b531_11eb_80e2_3c58c2c9efaerow4_col2\" class=\"data row4 col2\" >F</td>\n",
       "                        <td id=\"T_32eac27f_b531_11eb_80e2_3c58c2c9efaerow4_col3\" class=\"data row4 col3\" >9th</td>\n",
       "                        <td id=\"T_32eac27f_b531_11eb_80e2_3c58c2c9efaerow4_col4\" class=\"data row4 col4\" >Huang High School</td>\n",
       "                        <td id=\"T_32eac27f_b531_11eb_80e2_3c58c2c9efaerow4_col5\" class=\"data row4 col5\" >97</td>\n",
       "                        <td id=\"T_32eac27f_b531_11eb_80e2_3c58c2c9efaerow4_col6\" class=\"data row4 col6\" >84</td>\n",
       "                        <td id=\"T_32eac27f_b531_11eb_80e2_3c58c2c9efaerow4_col7\" class=\"data row4 col7\" >0</td>\n",
       "                        <td id=\"T_32eac27f_b531_11eb_80e2_3c58c2c9efaerow4_col8\" class=\"data row4 col8\" >District</td>\n",
       "                        <td id=\"T_32eac27f_b531_11eb_80e2_3c58c2c9efaerow4_col9\" class=\"data row4 col9\" >2917</td>\n",
       "                        <td id=\"T_32eac27f_b531_11eb_80e2_3c58c2c9efaerow4_col10\" class=\"data row4 col10\" >1910635</td>\n",
       "            </tr>\n",
       "            <tr>\n",
       "                                <td id=\"T_32eac27f_b531_11eb_80e2_3c58c2c9efaerow5_col0\" class=\"data row5 col0\" >5</td>\n",
       "                        <td id=\"T_32eac27f_b531_11eb_80e2_3c58c2c9efaerow5_col1\" class=\"data row5 col1\" >Bryan Miranda</td>\n",
       "                        <td id=\"T_32eac27f_b531_11eb_80e2_3c58c2c9efaerow5_col2\" class=\"data row5 col2\" >M</td>\n",
       "                        <td id=\"T_32eac27f_b531_11eb_80e2_3c58c2c9efaerow5_col3\" class=\"data row5 col3\" >9th</td>\n",
       "                        <td id=\"T_32eac27f_b531_11eb_80e2_3c58c2c9efaerow5_col4\" class=\"data row5 col4\" >Huang High School</td>\n",
       "                        <td id=\"T_32eac27f_b531_11eb_80e2_3c58c2c9efaerow5_col5\" class=\"data row5 col5\" >94</td>\n",
       "                        <td id=\"T_32eac27f_b531_11eb_80e2_3c58c2c9efaerow5_col6\" class=\"data row5 col6\" >94</td>\n",
       "                        <td id=\"T_32eac27f_b531_11eb_80e2_3c58c2c9efaerow5_col7\" class=\"data row5 col7\" >0</td>\n",
       "                        <td id=\"T_32eac27f_b531_11eb_80e2_3c58c2c9efaerow5_col8\" class=\"data row5 col8\" >District</td>\n",
       "                        <td id=\"T_32eac27f_b531_11eb_80e2_3c58c2c9efaerow5_col9\" class=\"data row5 col9\" >2917</td>\n",
       "                        <td id=\"T_32eac27f_b531_11eb_80e2_3c58c2c9efaerow5_col10\" class=\"data row5 col10\" >1910635</td>\n",
       "            </tr>\n",
       "            <tr>\n",
       "                                <td id=\"T_32eac27f_b531_11eb_80e2_3c58c2c9efaerow6_col0\" class=\"data row6 col0\" >6</td>\n",
       "                        <td id=\"T_32eac27f_b531_11eb_80e2_3c58c2c9efaerow6_col1\" class=\"data row6 col1\" >Sheena Carter</td>\n",
       "                        <td id=\"T_32eac27f_b531_11eb_80e2_3c58c2c9efaerow6_col2\" class=\"data row6 col2\" >F</td>\n",
       "                        <td id=\"T_32eac27f_b531_11eb_80e2_3c58c2c9efaerow6_col3\" class=\"data row6 col3\" >11th</td>\n",
       "                        <td id=\"T_32eac27f_b531_11eb_80e2_3c58c2c9efaerow6_col4\" class=\"data row6 col4\" >Huang High School</td>\n",
       "                        <td id=\"T_32eac27f_b531_11eb_80e2_3c58c2c9efaerow6_col5\" class=\"data row6 col5\" >82</td>\n",
       "                        <td id=\"T_32eac27f_b531_11eb_80e2_3c58c2c9efaerow6_col6\" class=\"data row6 col6\" >80</td>\n",
       "                        <td id=\"T_32eac27f_b531_11eb_80e2_3c58c2c9efaerow6_col7\" class=\"data row6 col7\" >0</td>\n",
       "                        <td id=\"T_32eac27f_b531_11eb_80e2_3c58c2c9efaerow6_col8\" class=\"data row6 col8\" >District</td>\n",
       "                        <td id=\"T_32eac27f_b531_11eb_80e2_3c58c2c9efaerow6_col9\" class=\"data row6 col9\" >2917</td>\n",
       "                        <td id=\"T_32eac27f_b531_11eb_80e2_3c58c2c9efaerow6_col10\" class=\"data row6 col10\" >1910635</td>\n",
       "            </tr>\n",
       "            <tr>\n",
       "                                <td id=\"T_32eac27f_b531_11eb_80e2_3c58c2c9efaerow7_col0\" class=\"data row7 col0\" >7</td>\n",
       "                        <td id=\"T_32eac27f_b531_11eb_80e2_3c58c2c9efaerow7_col1\" class=\"data row7 col1\" >Nicole Baker</td>\n",
       "                        <td id=\"T_32eac27f_b531_11eb_80e2_3c58c2c9efaerow7_col2\" class=\"data row7 col2\" >F</td>\n",
       "                        <td id=\"T_32eac27f_b531_11eb_80e2_3c58c2c9efaerow7_col3\" class=\"data row7 col3\" >12th</td>\n",
       "                        <td id=\"T_32eac27f_b531_11eb_80e2_3c58c2c9efaerow7_col4\" class=\"data row7 col4\" >Huang High School</td>\n",
       "                        <td id=\"T_32eac27f_b531_11eb_80e2_3c58c2c9efaerow7_col5\" class=\"data row7 col5\" >96</td>\n",
       "                        <td id=\"T_32eac27f_b531_11eb_80e2_3c58c2c9efaerow7_col6\" class=\"data row7 col6\" >69</td>\n",
       "                        <td id=\"T_32eac27f_b531_11eb_80e2_3c58c2c9efaerow7_col7\" class=\"data row7 col7\" >0</td>\n",
       "                        <td id=\"T_32eac27f_b531_11eb_80e2_3c58c2c9efaerow7_col8\" class=\"data row7 col8\" >District</td>\n",
       "                        <td id=\"T_32eac27f_b531_11eb_80e2_3c58c2c9efaerow7_col9\" class=\"data row7 col9\" >2917</td>\n",
       "                        <td id=\"T_32eac27f_b531_11eb_80e2_3c58c2c9efaerow7_col10\" class=\"data row7 col10\" >1910635</td>\n",
       "            </tr>\n",
       "            <tr>\n",
       "                                <td id=\"T_32eac27f_b531_11eb_80e2_3c58c2c9efaerow8_col0\" class=\"data row8 col0\" >8</td>\n",
       "                        <td id=\"T_32eac27f_b531_11eb_80e2_3c58c2c9efaerow8_col1\" class=\"data row8 col1\" >Michael Roth</td>\n",
       "                        <td id=\"T_32eac27f_b531_11eb_80e2_3c58c2c9efaerow8_col2\" class=\"data row8 col2\" >M</td>\n",
       "                        <td id=\"T_32eac27f_b531_11eb_80e2_3c58c2c9efaerow8_col3\" class=\"data row8 col3\" >10th</td>\n",
       "                        <td id=\"T_32eac27f_b531_11eb_80e2_3c58c2c9efaerow8_col4\" class=\"data row8 col4\" >Huang High School</td>\n",
       "                        <td id=\"T_32eac27f_b531_11eb_80e2_3c58c2c9efaerow8_col5\" class=\"data row8 col5\" >95</td>\n",
       "                        <td id=\"T_32eac27f_b531_11eb_80e2_3c58c2c9efaerow8_col6\" class=\"data row8 col6\" >87</td>\n",
       "                        <td id=\"T_32eac27f_b531_11eb_80e2_3c58c2c9efaerow8_col7\" class=\"data row8 col7\" >0</td>\n",
       "                        <td id=\"T_32eac27f_b531_11eb_80e2_3c58c2c9efaerow8_col8\" class=\"data row8 col8\" >District</td>\n",
       "                        <td id=\"T_32eac27f_b531_11eb_80e2_3c58c2c9efaerow8_col9\" class=\"data row8 col9\" >2917</td>\n",
       "                        <td id=\"T_32eac27f_b531_11eb_80e2_3c58c2c9efaerow8_col10\" class=\"data row8 col10\" >1910635</td>\n",
       "            </tr>\n",
       "            <tr>\n",
       "                                <td id=\"T_32eac27f_b531_11eb_80e2_3c58c2c9efaerow9_col0\" class=\"data row9 col0\" >9</td>\n",
       "                        <td id=\"T_32eac27f_b531_11eb_80e2_3c58c2c9efaerow9_col1\" class=\"data row9 col1\" >Matthew Greene</td>\n",
       "                        <td id=\"T_32eac27f_b531_11eb_80e2_3c58c2c9efaerow9_col2\" class=\"data row9 col2\" >M</td>\n",
       "                        <td id=\"T_32eac27f_b531_11eb_80e2_3c58c2c9efaerow9_col3\" class=\"data row9 col3\" >10th</td>\n",
       "                        <td id=\"T_32eac27f_b531_11eb_80e2_3c58c2c9efaerow9_col4\" class=\"data row9 col4\" >Huang High School</td>\n",
       "                        <td id=\"T_32eac27f_b531_11eb_80e2_3c58c2c9efaerow9_col5\" class=\"data row9 col5\" >96</td>\n",
       "                        <td id=\"T_32eac27f_b531_11eb_80e2_3c58c2c9efaerow9_col6\" class=\"data row9 col6\" >84</td>\n",
       "                        <td id=\"T_32eac27f_b531_11eb_80e2_3c58c2c9efaerow9_col7\" class=\"data row9 col7\" >0</td>\n",
       "                        <td id=\"T_32eac27f_b531_11eb_80e2_3c58c2c9efaerow9_col8\" class=\"data row9 col8\" >District</td>\n",
       "                        <td id=\"T_32eac27f_b531_11eb_80e2_3c58c2c9efaerow9_col9\" class=\"data row9 col9\" >2917</td>\n",
       "                        <td id=\"T_32eac27f_b531_11eb_80e2_3c58c2c9efaerow9_col10\" class=\"data row9 col10\" >1910635</td>\n",
       "            </tr>\n",
       "            <tr>\n",
       "                                <td id=\"T_32eac27f_b531_11eb_80e2_3c58c2c9efaerow10_col0\" class=\"data row10 col0\" >10</td>\n",
       "                        <td id=\"T_32eac27f_b531_11eb_80e2_3c58c2c9efaerow10_col1\" class=\"data row10 col1\" >Andrew Alexander</td>\n",
       "                        <td id=\"T_32eac27f_b531_11eb_80e2_3c58c2c9efaerow10_col2\" class=\"data row10 col2\" >M</td>\n",
       "                        <td id=\"T_32eac27f_b531_11eb_80e2_3c58c2c9efaerow10_col3\" class=\"data row10 col3\" >10th</td>\n",
       "                        <td id=\"T_32eac27f_b531_11eb_80e2_3c58c2c9efaerow10_col4\" class=\"data row10 col4\" >Huang High School</td>\n",
       "                        <td id=\"T_32eac27f_b531_11eb_80e2_3c58c2c9efaerow10_col5\" class=\"data row10 col5\" >90</td>\n",
       "                        <td id=\"T_32eac27f_b531_11eb_80e2_3c58c2c9efaerow10_col6\" class=\"data row10 col6\" >70</td>\n",
       "                        <td id=\"T_32eac27f_b531_11eb_80e2_3c58c2c9efaerow10_col7\" class=\"data row10 col7\" >0</td>\n",
       "                        <td id=\"T_32eac27f_b531_11eb_80e2_3c58c2c9efaerow10_col8\" class=\"data row10 col8\" >District</td>\n",
       "                        <td id=\"T_32eac27f_b531_11eb_80e2_3c58c2c9efaerow10_col9\" class=\"data row10 col9\" >2917</td>\n",
       "                        <td id=\"T_32eac27f_b531_11eb_80e2_3c58c2c9efaerow10_col10\" class=\"data row10 col10\" >1910635</td>\n",
       "            </tr>\n",
       "            <tr>\n",
       "                                <td id=\"T_32eac27f_b531_11eb_80e2_3c58c2c9efaerow11_col0\" class=\"data row11 col0\" >11</td>\n",
       "                        <td id=\"T_32eac27f_b531_11eb_80e2_3c58c2c9efaerow11_col1\" class=\"data row11 col1\" >Daniel Cooper</td>\n",
       "                        <td id=\"T_32eac27f_b531_11eb_80e2_3c58c2c9efaerow11_col2\" class=\"data row11 col2\" >M</td>\n",
       "                        <td id=\"T_32eac27f_b531_11eb_80e2_3c58c2c9efaerow11_col3\" class=\"data row11 col3\" >10th</td>\n",
       "                        <td id=\"T_32eac27f_b531_11eb_80e2_3c58c2c9efaerow11_col4\" class=\"data row11 col4\" >Huang High School</td>\n",
       "                        <td id=\"T_32eac27f_b531_11eb_80e2_3c58c2c9efaerow11_col5\" class=\"data row11 col5\" >78</td>\n",
       "                        <td id=\"T_32eac27f_b531_11eb_80e2_3c58c2c9efaerow11_col6\" class=\"data row11 col6\" >77</td>\n",
       "                        <td id=\"T_32eac27f_b531_11eb_80e2_3c58c2c9efaerow11_col7\" class=\"data row11 col7\" >0</td>\n",
       "                        <td id=\"T_32eac27f_b531_11eb_80e2_3c58c2c9efaerow11_col8\" class=\"data row11 col8\" >District</td>\n",
       "                        <td id=\"T_32eac27f_b531_11eb_80e2_3c58c2c9efaerow11_col9\" class=\"data row11 col9\" >2917</td>\n",
       "                        <td id=\"T_32eac27f_b531_11eb_80e2_3c58c2c9efaerow11_col10\" class=\"data row11 col10\" >1910635</td>\n",
       "            </tr>\n",
       "            <tr>\n",
       "                                <td id=\"T_32eac27f_b531_11eb_80e2_3c58c2c9efaerow12_col0\" class=\"data row12 col0\" >12</td>\n",
       "                        <td id=\"T_32eac27f_b531_11eb_80e2_3c58c2c9efaerow12_col1\" class=\"data row12 col1\" >Brittney Walker</td>\n",
       "                        <td id=\"T_32eac27f_b531_11eb_80e2_3c58c2c9efaerow12_col2\" class=\"data row12 col2\" >F</td>\n",
       "                        <td id=\"T_32eac27f_b531_11eb_80e2_3c58c2c9efaerow12_col3\" class=\"data row12 col3\" >9th</td>\n",
       "                        <td id=\"T_32eac27f_b531_11eb_80e2_3c58c2c9efaerow12_col4\" class=\"data row12 col4\" >Huang High School</td>\n",
       "                        <td id=\"T_32eac27f_b531_11eb_80e2_3c58c2c9efaerow12_col5\" class=\"data row12 col5\" >64</td>\n",
       "                        <td id=\"T_32eac27f_b531_11eb_80e2_3c58c2c9efaerow12_col6\" class=\"data row12 col6\" >79</td>\n",
       "                        <td id=\"T_32eac27f_b531_11eb_80e2_3c58c2c9efaerow12_col7\" class=\"data row12 col7\" >0</td>\n",
       "                        <td id=\"T_32eac27f_b531_11eb_80e2_3c58c2c9efaerow12_col8\" class=\"data row12 col8\" >District</td>\n",
       "                        <td id=\"T_32eac27f_b531_11eb_80e2_3c58c2c9efaerow12_col9\" class=\"data row12 col9\" >2917</td>\n",
       "                        <td id=\"T_32eac27f_b531_11eb_80e2_3c58c2c9efaerow12_col10\" class=\"data row12 col10\" >1910635</td>\n",
       "            </tr>\n",
       "            <tr>\n",
       "                                <td id=\"T_32eac27f_b531_11eb_80e2_3c58c2c9efaerow13_col0\" class=\"data row13 col0\" >13</td>\n",
       "                        <td id=\"T_32eac27f_b531_11eb_80e2_3c58c2c9efaerow13_col1\" class=\"data row13 col1\" >William Long</td>\n",
       "                        <td id=\"T_32eac27f_b531_11eb_80e2_3c58c2c9efaerow13_col2\" class=\"data row13 col2\" >M</td>\n",
       "                        <td id=\"T_32eac27f_b531_11eb_80e2_3c58c2c9efaerow13_col3\" class=\"data row13 col3\" >9th</td>\n",
       "                        <td id=\"T_32eac27f_b531_11eb_80e2_3c58c2c9efaerow13_col4\" class=\"data row13 col4\" >Huang High School</td>\n",
       "                        <td id=\"T_32eac27f_b531_11eb_80e2_3c58c2c9efaerow13_col5\" class=\"data row13 col5\" >71</td>\n",
       "                        <td id=\"T_32eac27f_b531_11eb_80e2_3c58c2c9efaerow13_col6\" class=\"data row13 col6\" >79</td>\n",
       "                        <td id=\"T_32eac27f_b531_11eb_80e2_3c58c2c9efaerow13_col7\" class=\"data row13 col7\" >0</td>\n",
       "                        <td id=\"T_32eac27f_b531_11eb_80e2_3c58c2c9efaerow13_col8\" class=\"data row13 col8\" >District</td>\n",
       "                        <td id=\"T_32eac27f_b531_11eb_80e2_3c58c2c9efaerow13_col9\" class=\"data row13 col9\" >2917</td>\n",
       "                        <td id=\"T_32eac27f_b531_11eb_80e2_3c58c2c9efaerow13_col10\" class=\"data row13 col10\" >1910635</td>\n",
       "            </tr>\n",
       "            <tr>\n",
       "                                <td id=\"T_32eac27f_b531_11eb_80e2_3c58c2c9efaerow14_col0\" class=\"data row14 col0\" >14</td>\n",
       "                        <td id=\"T_32eac27f_b531_11eb_80e2_3c58c2c9efaerow14_col1\" class=\"data row14 col1\" >Tammy Hebert</td>\n",
       "                        <td id=\"T_32eac27f_b531_11eb_80e2_3c58c2c9efaerow14_col2\" class=\"data row14 col2\" >F</td>\n",
       "                        <td id=\"T_32eac27f_b531_11eb_80e2_3c58c2c9efaerow14_col3\" class=\"data row14 col3\" >10th</td>\n",
       "                        <td id=\"T_32eac27f_b531_11eb_80e2_3c58c2c9efaerow14_col4\" class=\"data row14 col4\" >Huang High School</td>\n",
       "                        <td id=\"T_32eac27f_b531_11eb_80e2_3c58c2c9efaerow14_col5\" class=\"data row14 col5\" >85</td>\n",
       "                        <td id=\"T_32eac27f_b531_11eb_80e2_3c58c2c9efaerow14_col6\" class=\"data row14 col6\" >67</td>\n",
       "                        <td id=\"T_32eac27f_b531_11eb_80e2_3c58c2c9efaerow14_col7\" class=\"data row14 col7\" >0</td>\n",
       "                        <td id=\"T_32eac27f_b531_11eb_80e2_3c58c2c9efaerow14_col8\" class=\"data row14 col8\" >District</td>\n",
       "                        <td id=\"T_32eac27f_b531_11eb_80e2_3c58c2c9efaerow14_col9\" class=\"data row14 col9\" >2917</td>\n",
       "                        <td id=\"T_32eac27f_b531_11eb_80e2_3c58c2c9efaerow14_col10\" class=\"data row14 col10\" >1910635</td>\n",
       "            </tr>\n",
       "            <tr>\n",
       "                                <td id=\"T_32eac27f_b531_11eb_80e2_3c58c2c9efaerow15_col0\" class=\"data row15 col0\" >15</td>\n",
       "                        <td id=\"T_32eac27f_b531_11eb_80e2_3c58c2c9efaerow15_col1\" class=\"data row15 col1\" >Dr. Jordan Carson</td>\n",
       "                        <td id=\"T_32eac27f_b531_11eb_80e2_3c58c2c9efaerow15_col2\" class=\"data row15 col2\" >M</td>\n",
       "                        <td id=\"T_32eac27f_b531_11eb_80e2_3c58c2c9efaerow15_col3\" class=\"data row15 col3\" >11th</td>\n",
       "                        <td id=\"T_32eac27f_b531_11eb_80e2_3c58c2c9efaerow15_col4\" class=\"data row15 col4\" >Huang High School</td>\n",
       "                        <td id=\"T_32eac27f_b531_11eb_80e2_3c58c2c9efaerow15_col5\" class=\"data row15 col5\" >94</td>\n",
       "                        <td id=\"T_32eac27f_b531_11eb_80e2_3c58c2c9efaerow15_col6\" class=\"data row15 col6\" >88</td>\n",
       "                        <td id=\"T_32eac27f_b531_11eb_80e2_3c58c2c9efaerow15_col7\" class=\"data row15 col7\" >0</td>\n",
       "                        <td id=\"T_32eac27f_b531_11eb_80e2_3c58c2c9efaerow15_col8\" class=\"data row15 col8\" >District</td>\n",
       "                        <td id=\"T_32eac27f_b531_11eb_80e2_3c58c2c9efaerow15_col9\" class=\"data row15 col9\" >2917</td>\n",
       "                        <td id=\"T_32eac27f_b531_11eb_80e2_3c58c2c9efaerow15_col10\" class=\"data row15 col10\" >1910635</td>\n",
       "            </tr>\n",
       "            <tr>\n",
       "                                <td id=\"T_32eac27f_b531_11eb_80e2_3c58c2c9efaerow16_col0\" class=\"data row16 col0\" >16</td>\n",
       "                        <td id=\"T_32eac27f_b531_11eb_80e2_3c58c2c9efaerow16_col1\" class=\"data row16 col1\" >Donald Zamora</td>\n",
       "                        <td id=\"T_32eac27f_b531_11eb_80e2_3c58c2c9efaerow16_col2\" class=\"data row16 col2\" >M</td>\n",
       "                        <td id=\"T_32eac27f_b531_11eb_80e2_3c58c2c9efaerow16_col3\" class=\"data row16 col3\" >9th</td>\n",
       "                        <td id=\"T_32eac27f_b531_11eb_80e2_3c58c2c9efaerow16_col4\" class=\"data row16 col4\" >Huang High School</td>\n",
       "                        <td id=\"T_32eac27f_b531_11eb_80e2_3c58c2c9efaerow16_col5\" class=\"data row16 col5\" >88</td>\n",
       "                        <td id=\"T_32eac27f_b531_11eb_80e2_3c58c2c9efaerow16_col6\" class=\"data row16 col6\" >55</td>\n",
       "                        <td id=\"T_32eac27f_b531_11eb_80e2_3c58c2c9efaerow16_col7\" class=\"data row16 col7\" >0</td>\n",
       "                        <td id=\"T_32eac27f_b531_11eb_80e2_3c58c2c9efaerow16_col8\" class=\"data row16 col8\" >District</td>\n",
       "                        <td id=\"T_32eac27f_b531_11eb_80e2_3c58c2c9efaerow16_col9\" class=\"data row16 col9\" >2917</td>\n",
       "                        <td id=\"T_32eac27f_b531_11eb_80e2_3c58c2c9efaerow16_col10\" class=\"data row16 col10\" >1910635</td>\n",
       "            </tr>\n",
       "            <tr>\n",
       "                                <td id=\"T_32eac27f_b531_11eb_80e2_3c58c2c9efaerow17_col0\" class=\"data row17 col0\" >17</td>\n",
       "                        <td id=\"T_32eac27f_b531_11eb_80e2_3c58c2c9efaerow17_col1\" class=\"data row17 col1\" >Kimberly Santiago</td>\n",
       "                        <td id=\"T_32eac27f_b531_11eb_80e2_3c58c2c9efaerow17_col2\" class=\"data row17 col2\" >F</td>\n",
       "                        <td id=\"T_32eac27f_b531_11eb_80e2_3c58c2c9efaerow17_col3\" class=\"data row17 col3\" >9th</td>\n",
       "                        <td id=\"T_32eac27f_b531_11eb_80e2_3c58c2c9efaerow17_col4\" class=\"data row17 col4\" >Huang High School</td>\n",
       "                        <td id=\"T_32eac27f_b531_11eb_80e2_3c58c2c9efaerow17_col5\" class=\"data row17 col5\" >74</td>\n",
       "                        <td id=\"T_32eac27f_b531_11eb_80e2_3c58c2c9efaerow17_col6\" class=\"data row17 col6\" >75</td>\n",
       "                        <td id=\"T_32eac27f_b531_11eb_80e2_3c58c2c9efaerow17_col7\" class=\"data row17 col7\" >0</td>\n",
       "                        <td id=\"T_32eac27f_b531_11eb_80e2_3c58c2c9efaerow17_col8\" class=\"data row17 col8\" >District</td>\n",
       "                        <td id=\"T_32eac27f_b531_11eb_80e2_3c58c2c9efaerow17_col9\" class=\"data row17 col9\" >2917</td>\n",
       "                        <td id=\"T_32eac27f_b531_11eb_80e2_3c58c2c9efaerow17_col10\" class=\"data row17 col10\" >1910635</td>\n",
       "            </tr>\n",
       "            <tr>\n",
       "                                <td id=\"T_32eac27f_b531_11eb_80e2_3c58c2c9efaerow18_col0\" class=\"data row18 col0\" >18</td>\n",
       "                        <td id=\"T_32eac27f_b531_11eb_80e2_3c58c2c9efaerow18_col1\" class=\"data row18 col1\" >Kevin Stevens</td>\n",
       "                        <td id=\"T_32eac27f_b531_11eb_80e2_3c58c2c9efaerow18_col2\" class=\"data row18 col2\" >M</td>\n",
       "                        <td id=\"T_32eac27f_b531_11eb_80e2_3c58c2c9efaerow18_col3\" class=\"data row18 col3\" >9th</td>\n",
       "                        <td id=\"T_32eac27f_b531_11eb_80e2_3c58c2c9efaerow18_col4\" class=\"data row18 col4\" >Huang High School</td>\n",
       "                        <td id=\"T_32eac27f_b531_11eb_80e2_3c58c2c9efaerow18_col5\" class=\"data row18 col5\" >64</td>\n",
       "                        <td id=\"T_32eac27f_b531_11eb_80e2_3c58c2c9efaerow18_col6\" class=\"data row18 col6\" >69</td>\n",
       "                        <td id=\"T_32eac27f_b531_11eb_80e2_3c58c2c9efaerow18_col7\" class=\"data row18 col7\" >0</td>\n",
       "                        <td id=\"T_32eac27f_b531_11eb_80e2_3c58c2c9efaerow18_col8\" class=\"data row18 col8\" >District</td>\n",
       "                        <td id=\"T_32eac27f_b531_11eb_80e2_3c58c2c9efaerow18_col9\" class=\"data row18 col9\" >2917</td>\n",
       "                        <td id=\"T_32eac27f_b531_11eb_80e2_3c58c2c9efaerow18_col10\" class=\"data row18 col10\" >1910635</td>\n",
       "            </tr>\n",
       "            <tr>\n",
       "                                <td id=\"T_32eac27f_b531_11eb_80e2_3c58c2c9efaerow19_col0\" class=\"data row19 col0\" >19</td>\n",
       "                        <td id=\"T_32eac27f_b531_11eb_80e2_3c58c2c9efaerow19_col1\" class=\"data row19 col1\" >Brandi Lyons</td>\n",
       "                        <td id=\"T_32eac27f_b531_11eb_80e2_3c58c2c9efaerow19_col2\" class=\"data row19 col2\" >F</td>\n",
       "                        <td id=\"T_32eac27f_b531_11eb_80e2_3c58c2c9efaerow19_col3\" class=\"data row19 col3\" >9th</td>\n",
       "                        <td id=\"T_32eac27f_b531_11eb_80e2_3c58c2c9efaerow19_col4\" class=\"data row19 col4\" >Huang High School</td>\n",
       "                        <td id=\"T_32eac27f_b531_11eb_80e2_3c58c2c9efaerow19_col5\" class=\"data row19 col5\" >89</td>\n",
       "                        <td id=\"T_32eac27f_b531_11eb_80e2_3c58c2c9efaerow19_col6\" class=\"data row19 col6\" >80</td>\n",
       "                        <td id=\"T_32eac27f_b531_11eb_80e2_3c58c2c9efaerow19_col7\" class=\"data row19 col7\" >0</td>\n",
       "                        <td id=\"T_32eac27f_b531_11eb_80e2_3c58c2c9efaerow19_col8\" class=\"data row19 col8\" >District</td>\n",
       "                        <td id=\"T_32eac27f_b531_11eb_80e2_3c58c2c9efaerow19_col9\" class=\"data row19 col9\" >2917</td>\n",
       "                        <td id=\"T_32eac27f_b531_11eb_80e2_3c58c2c9efaerow19_col10\" class=\"data row19 col10\" >1910635</td>\n",
       "            </tr>\n",
       "    </tbody></table>"
      ],
      "text/plain": [
       "<pandas.io.formats.style.Styler at 0x21e7a6d21c0>"
      ]
     },
     "execution_count": 81,
     "metadata": {},
     "output_type": "execute_result"
    }
   ],
   "source": [
    "# Dependencies and Setup\n",
    "import pandas as pd\n",
    "import numpy as np\n",
    "\n",
    "# File to Load (Remember to Change These)\n",
    "school_data_to_load = \"Resources/schools_complete.csv\"\n",
    "student_data_to_load = \"Resources/students_complete.csv\"\n",
    "\n",
    "# Read School and Student CSV Data Files via .read_csv method and store into Pandas DataFrames\n",
    "school_data_df = pd.read_csv(school_data_to_load)\n",
    "student_data_df = pd.read_csv(student_data_to_load)\n",
    "\n",
    "# Combine the data via .merge method into a single dataset.  \n",
    "school_data_complete_df = pd.merge(student_data_df, school_data_df, how=\"left\", on=[\"school_name\"])  #Bring in all student data via Left Outer join\n",
    "#school_data_complete_df.head(10) #QUESTION:  Why did we have on=[\"school_name\"] twice in the original?\n",
    "\n",
    "# Use method .shape to get number of rows and columns in df -> (39170, 11)\n",
    "# school_data_complete_df.shape\n",
    "\n",
    "#grouped_school = school_data_df.groupby('type')\n",
    "#grouped_school.head(15)\n",
    "\n",
    "\n",
    "school_data_complete_df.head(20).style.hide_index()\n",
    "#grouped_school_type = school_data_complete_df.groupby('type')\n",
    "#grouped_school_type.head(20)\n"
   ]
  },
  {
   "cell_type": "code",
   "execution_count": 69,
   "metadata": {},
   "outputs": [],
   "source": [
    "#Using relative postion, export df to CSV to review\n",
    "\n",
    "school_data_complete_df.to_csv('From_DF_CSV.csv', encoding='utf-8')  "
   ]
  },
  {
   "cell_type": "markdown",
   "metadata": {},
   "source": [
    "## District Summary\n",
    "\n",
    "* Calculate the total number of schools\n",
    "\n",
    "* Calculate the total number of students\n",
    "\n",
    "* Calculate the total budget\n",
    "\n",
    "* Calculate the average math score \n",
    "\n",
    "* Calculate the average reading score\n",
    "\n",
    "* Calculate the percentage of students with a passing math score (70 or greater)\n",
    "\n",
    "* Calculate the percentage of students with a passing reading score (70 or greater)\n",
    "\n",
    "* Calculate the percentage of students who passed math **and** reading (% Overall Passing)\n",
    "\n",
    "* Create a dataframe to hold the above results\n",
    "\n",
    "* Optional: give the displayed data cleaner formatting"
   ]
  },
  {
   "cell_type": "code",
   "execution_count": 70,
   "metadata": {},
   "outputs": [
    {
     "name": "stdout",
     "output_type": "stream",
     "text": [
      "15\n"
     ]
    }
   ],
   "source": [
    "#District Summary - Calculate the total number of schools\n",
    "#Clean duplicate schools and store in array\n",
    "\n",
    "unique_school_name = school_data_df['school_name'].unique()\n",
    "\n",
    "tot_num_school = len(unique_school_name)\n",
    "\n",
    "print(tot_num_school)  #Returned 15"
   ]
  },
  {
   "cell_type": "code",
   "execution_count": 71,
   "metadata": {},
   "outputs": [
    {
     "name": "stdout",
     "output_type": "stream",
     "text": [
      "39170\n"
     ]
    }
   ],
   "source": [
    "#District Summary - Calculate the total number of students\n",
    "\n",
    "tot_num_student = student_data_df['student_name'].count()\n",
    "\n",
    "print(tot_num_student)\n",
    "\n",
    "#print(type(tot_num_student)) #Returned 39170"
   ]
  },
  {
   "cell_type": "code",
   "execution_count": 72,
   "metadata": {},
   "outputs": [
    {
     "name": "stdout",
     "output_type": "stream",
     "text": [
      "24649428\n"
     ]
    }
   ],
   "source": [
    "#District Summary - Calculate total budget\n",
    "\n",
    "tot_budget_school = school_data_df['budget'].sum()\n",
    "\n",
    "print(tot_budget_school)\n",
    "\n",
    "#print(type(tot_budget_school))  #Returned total school budget "
   ]
  },
  {
   "cell_type": "code",
   "execution_count": 73,
   "metadata": {},
   "outputs": [
    {
     "name": "stdout",
     "output_type": "stream",
     "text": [
      "78.98537145774827\n"
     ]
    }
   ],
   "source": [
    "#District Summary - Calculate average math score\n",
    "\n",
    "avg_math_score_student = student_data_df['math_score'].mean()\n",
    "\n",
    "print(avg_math_score_student)\n",
    "\n",
    "#avg_math_score_student_rd = round(avg_math_score_student, 2)  #Round to 2 decimal points\n",
    "\n",
    "#print(avg_math_score_student_rd)  #Returned average for student math scores"
   ]
  },
  {
   "cell_type": "code",
   "execution_count": 74,
   "metadata": {},
   "outputs": [
    {
     "name": "stdout",
     "output_type": "stream",
     "text": [
      "81.87784018381414\n"
     ]
    }
   ],
   "source": [
    "#District Summary - Calculate average reading score\n",
    "\n",
    "avg_read_score_student = student_data_df['reading_score'].mean()\n",
    "\n",
    "print(avg_read_score_student)\n",
    "\n",
    "#avg_read_score_student_rd = round(avg_read_score_student, 2)  #Round to 2 decimal points\n",
    "\n",
    "#print(avg_read_score_student_rd)  #Returned average for student reading score"
   ]
  },
  {
   "cell_type": "code",
   "execution_count": 75,
   "metadata": {},
   "outputs": [
    {
     "name": "stdout",
     "output_type": "stream",
     "text": [
      "74.98\n"
     ]
    }
   ],
   "source": [
    "#District Summary - percentage of students with a passing math score (70 or greater)\n",
    "\n",
    "#1st find students with math score > 70 and output it to dividend.  \n",
    "#2nd use student_count as the divisor\n",
    "#lastly, set up formula, taking divident/divisor\n",
    "\n",
    "num_stu_passing_math = student_data_df.loc[student_data_df['math_score'] >= 70]['math_score'].count()  #Number of students who has math score 70 or greater.  .loc is used to access row and column specified\n",
    "\n",
    "#print(num_stu_passing_math)\n",
    "\n",
    "percent_stu_passing_math = round((num_stu_passing_math/tot_num_student)*100, 2)  #Round to 2 decimal points\n",
    "\n",
    "print(percent_stu_passing_math)  #returned percent of students with passing math score >= 70"
   ]
  },
  {
   "cell_type": "code",
   "execution_count": 76,
   "metadata": {},
   "outputs": [
    {
     "name": "stdout",
     "output_type": "stream",
     "text": [
      "85.81\n"
     ]
    }
   ],
   "source": [
    "#District Summary - percentage of students with a passing reading score (70 or greater)\n",
    "\n",
    "#1st find students with reading score > 70 and output it to dividend.  \n",
    "#2nd use student_count as the divisor\n",
    "#lastly, set up formula, taking divident/divisor\n",
    "\n",
    "num_stu_passing_read = student_data_df.loc[student_data_df['reading_score'] >= 70]['reading_score'].count()  #Number of students who has reading score 70 or greater.  .loc method is used to access row and column specified\n",
    "\n",
    "# Print(num_stu_passing_read)\n",
    "\n",
    "percent_stu_passing_read = round((num_stu_passing_read/tot_num_student)*100, 2)  # Round to 6 decimal points\n",
    "\n",
    "print(percent_stu_passing_read)  # Returned percent of students with passing math score >= 70"
   ]
  },
  {
   "cell_type": "code",
   "execution_count": 77,
   "metadata": {},
   "outputs": [
    {
     "name": "stdout",
     "output_type": "stream",
     "text": [
      "80.4\n"
     ]
    }
   ],
   "source": [
    "# District Summary - Calculate percentage of students who passed math and reading (% Overall Passing)\n",
    "\n",
    "# Overall Passing Rate Calculations\n",
    "\n",
    "overall_stu_passing_rate = round((percent_stu_passing_read + percent_stu_passing_math) / 2, 2)  # Round to 6 decimal points\n",
    "print(overall_stu_passing_rate)"
   ]
  },
  {
   "cell_type": "code",
   "execution_count": 92,
   "metadata": {},
   "outputs": [
    {
     "data": {
      "text/html": [
       "<style  type=\"text/css\" >\n",
       "</style><table id=\"T_0a261c3b_b532_11eb_9c05_3c58c2c9efae\" ><thead>    <tr>        <th class=\"col_heading level0 col0\" >Total Schools</th>        <th class=\"col_heading level0 col1\" >Total Students</th>        <th class=\"col_heading level0 col2\" >Total Budget</th>        <th class=\"col_heading level0 col3\" >Average Math Score</th>        <th class=\"col_heading level0 col4\" >Average Reading Score</th>        <th class=\"col_heading level0 col5\" >% Passing Math</th>        <th class=\"col_heading level0 col6\" >% Passing Reading</th>        <th class=\"col_heading level0 col7\" >% Overall Passing Rate</th>    </tr></thead><tbody>\n",
       "                <tr>\n",
       "                                <td id=\"T_0a261c3b_b532_11eb_9c05_3c58c2c9efaerow0_col0\" class=\"data row0 col0\" >15</td>\n",
       "                        <td id=\"T_0a261c3b_b532_11eb_9c05_3c58c2c9efaerow0_col1\" class=\"data row0 col1\" >39170</td>\n",
       "                        <td id=\"T_0a261c3b_b532_11eb_9c05_3c58c2c9efaerow0_col2\" class=\"data row0 col2\" >24649428</td>\n",
       "                        <td id=\"T_0a261c3b_b532_11eb_9c05_3c58c2c9efaerow0_col3\" class=\"data row0 col3\" >78.985371</td>\n",
       "                        <td id=\"T_0a261c3b_b532_11eb_9c05_3c58c2c9efaerow0_col4\" class=\"data row0 col4\" >81.877840</td>\n",
       "                        <td id=\"T_0a261c3b_b532_11eb_9c05_3c58c2c9efaerow0_col5\" class=\"data row0 col5\" >74.980000</td>\n",
       "                        <td id=\"T_0a261c3b_b532_11eb_9c05_3c58c2c9efaerow0_col6\" class=\"data row0 col6\" >85.810000</td>\n",
       "                        <td id=\"T_0a261c3b_b532_11eb_9c05_3c58c2c9efaerow0_col7\" class=\"data row0 col7\" >80.400000</td>\n",
       "            </tr>\n",
       "    </tbody></table>"
      ],
      "text/plain": [
       "<pandas.io.formats.style.Styler at 0x21e7a8ca7f0>"
      ]
     },
     "execution_count": 92,
     "metadata": {},
     "output_type": "execute_result"
    }
   ],
   "source": [
    "# Create a dataform with data organized into School District\n",
    "\n",
    "district_summary = pd.DataFrame({\"Total Schools\":[tot_num_school],   # .DataFrame is case sensitive\n",
    "                               \"Total Students\":[tot_num_student],   \n",
    "                               \"Total Budget\": [tot_budget_school],\n",
    "                               \"Average Math Score\":[avg_math_score_student],\n",
    "                               \"Average Reading Score\":[avg_read_score_student],\n",
    "                               \"% Passing Math\":[percent_stu_passing_math],\n",
    "                               \"% Passing Reading\": [percent_stu_passing_read],\n",
    "                               \"% Overall Passing Rate\":[overall_stu_passing_rate]})\n",
    "\n",
    "district_summary.head().style.hide_index()"
   ]
  },
  {
   "cell_type": "code",
   "execution_count": 93,
   "metadata": {},
   "outputs": [
    {
     "data": {
      "text/html": [
       "<style  type=\"text/css\" >\n",
       "</style><table id=\"T_0b3e24aa_b532_11eb_b45c_3c58c2c9efae\" ><thead>    <tr>        <th class=\"col_heading level0 col0\" >Total Schools</th>        <th class=\"col_heading level0 col1\" >Total Students</th>        <th class=\"col_heading level0 col2\" >Total Budget</th>        <th class=\"col_heading level0 col3\" >Average Math Score</th>        <th class=\"col_heading level0 col4\" >Average Reading Score</th>        <th class=\"col_heading level0 col5\" >% Passing Math</th>        <th class=\"col_heading level0 col6\" >% Passing Reading</th>        <th class=\"col_heading level0 col7\" >% Overall Passing Rate</th>    </tr></thead><tbody>\n",
       "                <tr>\n",
       "                                <td id=\"T_0b3e24aa_b532_11eb_b45c_3c58c2c9efaerow0_col0\" class=\"data row0 col0\" >15</td>\n",
       "                        <td id=\"T_0b3e24aa_b532_11eb_b45c_3c58c2c9efaerow0_col1\" class=\"data row0 col1\" >39,170</td>\n",
       "                        <td id=\"T_0b3e24aa_b532_11eb_b45c_3c58c2c9efaerow0_col2\" class=\"data row0 col2\" >$24,649,428</td>\n",
       "                        <td id=\"T_0b3e24aa_b532_11eb_b45c_3c58c2c9efaerow0_col3\" class=\"data row0 col3\" >78.99%</td>\n",
       "                        <td id=\"T_0b3e24aa_b532_11eb_b45c_3c58c2c9efaerow0_col4\" class=\"data row0 col4\" >81.88%</td>\n",
       "                        <td id=\"T_0b3e24aa_b532_11eb_b45c_3c58c2c9efaerow0_col5\" class=\"data row0 col5\" >74.98%</td>\n",
       "                        <td id=\"T_0b3e24aa_b532_11eb_b45c_3c58c2c9efaerow0_col6\" class=\"data row0 col6\" >85.81%</td>\n",
       "                        <td id=\"T_0b3e24aa_b532_11eb_b45c_3c58c2c9efaerow0_col7\" class=\"data row0 col7\" >80.40%</td>\n",
       "            </tr>\n",
       "    </tbody></table>"
      ],
      "text/plain": [
       "<pandas.io.formats.style.Styler at 0x21e7a8c26d0>"
      ]
     },
     "execution_count": 93,
     "metadata": {},
     "output_type": "execute_result"
    }
   ],
   "source": [
    "#Formatting applied to Dataform - district summary\n",
    "\n",
    "district_summary.style.format(pd.DataFrame).hide_index()\n",
    "district_summary[\"Total Students\"] = district_summary[\"Total Students\"].map(\"{:,}\".format)  # Format interable with a comma\n",
    "district_summary[\"Total Budget\"] = district_summary[\"Total Budget\"].map(\"${:,}\".format)  # Format interable with a $ and , \n",
    "district_summary[\"Average Math Score\"] = district_summary[\"Average Math Score\"].map(\"{:.2f}%\".format)  # Format % and round to 2 decimal points\n",
    "district_summary[\"Average Reading Score\"] = district_summary[\"Average Reading Score\"].map(\"{:.2f}%\".format)  # Format % and round to 2 decimal points\n",
    "district_summary[\"% Passing Math\"] = district_summary[\"% Passing Math\"].map(\"{:.2f}%\".format)  # Format % and round to 2 decimal points\n",
    "district_summary[\"% Passing Reading\"] = district_summary[\"% Passing Reading\"].map(\"{:.2f}%\".format)  # Format % and round to 2 decimal points\n",
    "district_summary[\"% Overall Passing Rate\"] = district_summary[\"% Overall Passing Rate\"].map(\"{:.2f}%\".format)  # Format % and round to 2 decimal points\n",
    "\n",
    "district_summary.head().style.hide_index()"
   ]
  },
  {
   "cell_type": "markdown",
   "metadata": {},
   "source": [
    "## School Summary"
   ]
  },
  {
   "cell_type": "code",
   "execution_count": null,
   "metadata": {},
   "outputs": [],
   "source": [
    "# group by school and set the index for school name\n",
    "grp_school_df = school_data_complete_df.set_index('school_name').groupby(['school_name'])\n",
    "grp_school_df.head()"
   ]
  },
  {
   "cell_type": "code",
   "execution_count": null,
   "metadata": {},
   "outputs": [],
   "source": [
    "# determine school types by school and set index for school name\n",
    "school_type_df = school_data_df.set_index('school_name')['type']\n",
    "school_type_df.head(20)\n"
   ]
  },
  {
   "cell_type": "code",
   "execution_count": null,
   "metadata": {},
   "outputs": [],
   "source": [
    "# calcuate total students per school and set index for school name\n",
    "student_per_school_df = grp_school_df['Student ID'].count()  # Use groups as a filter to figure out total students per school.  Otherwise, count would just return just the total students for all 15 schools.\n",
    "#student_per_school_df\n",
    "\n",
    "#stu_per_school_df = student_data_df['Student ID'].count()\n",
    "#stu_per_school_df    #  This returns total students"
   ]
  },
  {
   "cell_type": "code",
   "execution_count": null,
   "metadata": {},
   "outputs": [],
   "source": [
    "# calculate school budget per school\n",
    "budget_per_school_df = school_data_df.set_index('school_name')['budget']\n",
    "budget_per_school_df.head()\n"
   ]
  },
  {
   "cell_type": "code",
   "execution_count": null,
   "metadata": {},
   "outputs": [],
   "source": [
    "# calculate budget per each student for each school\n",
    "#budget_per_student_df = school_data_df.set_index('school_name')['budget'] / student_data_df['school_name'].count()\n",
    "\n",
    "budget_per_student_df = school_data_df.set_index('school_name')['budget']/school_data_df.set_index('school_name')['size']\n",
    "#budget_per_student_df.head(20)\n"
   ]
  },
  {
   "cell_type": "code",
   "execution_count": null,
   "metadata": {},
   "outputs": [],
   "source": [
    "# calculate average math score per each school\n",
    "avg_math_df = grp_school_df['math_score'].mean()\n",
    "avg_math_df.head(20)\n"
   ]
  },
  {
   "cell_type": "code",
   "execution_count": null,
   "metadata": {},
   "outputs": [],
   "source": [
    "# calculate average reading score per each school\n",
    "avg_read_df = grp_school_df['reading_score'].mean()\n",
    "avg_read_df.head(20)"
   ]
  },
  {
   "cell_type": "code",
   "execution_count": null,
   "metadata": {},
   "outputs": [],
   "source": [
    "# calculate % of students that passed math: stu_pass_math\n",
    "#???\n"
   ]
  },
  {
   "cell_type": "code",
   "execution_count": 116,
   "metadata": {},
   "outputs": [
    {
     "data": {
      "text/html": [
       "<div>\n",
       "<style scoped>\n",
       "    .dataframe tbody tr th:only-of-type {\n",
       "        vertical-align: middle;\n",
       "    }\n",
       "\n",
       "    .dataframe tbody tr th {\n",
       "        vertical-align: top;\n",
       "    }\n",
       "\n",
       "    .dataframe thead th {\n",
       "        text-align: right;\n",
       "    }\n",
       "</style>\n",
       "<table border=\"1\" class=\"dataframe\">\n",
       "  <thead>\n",
       "    <tr style=\"text-align: right;\">\n",
       "      <th></th>\n",
       "      <th>School Type</th>\n",
       "      <th>Total Students</th>\n",
       "      <th>Total School Budget</th>\n",
       "      <th>Per Student Budget</th>\n",
       "      <th>Average Math Score</th>\n",
       "      <th>Average Reading Score</th>\n",
       "    </tr>\n",
       "  </thead>\n",
       "  <tbody>\n",
       "    <tr>\n",
       "      <th>Bailey High School</th>\n",
       "      <td>District</td>\n",
       "      <td>4,976</td>\n",
       "      <td>$3,124,928</td>\n",
       "      <td>$628.0</td>\n",
       "      <td>77.05%</td>\n",
       "      <td>81.03%</td>\n",
       "    </tr>\n",
       "    <tr>\n",
       "      <th>Cabrera High School</th>\n",
       "      <td>Charter</td>\n",
       "      <td>1,858</td>\n",
       "      <td>$1,081,356</td>\n",
       "      <td>$582.0</td>\n",
       "      <td>83.06%</td>\n",
       "      <td>83.98%</td>\n",
       "    </tr>\n",
       "    <tr>\n",
       "      <th>Figueroa High School</th>\n",
       "      <td>District</td>\n",
       "      <td>2,949</td>\n",
       "      <td>$1,884,411</td>\n",
       "      <td>$639.0</td>\n",
       "      <td>76.71%</td>\n",
       "      <td>81.16%</td>\n",
       "    </tr>\n",
       "    <tr>\n",
       "      <th>Ford High School</th>\n",
       "      <td>District</td>\n",
       "      <td>2,739</td>\n",
       "      <td>$1,763,916</td>\n",
       "      <td>$644.0</td>\n",
       "      <td>77.10%</td>\n",
       "      <td>80.75%</td>\n",
       "    </tr>\n",
       "    <tr>\n",
       "      <th>Griffin High School</th>\n",
       "      <td>Charter</td>\n",
       "      <td>1,468</td>\n",
       "      <td>$917,500</td>\n",
       "      <td>$625.0</td>\n",
       "      <td>83.35%</td>\n",
       "      <td>83.82%</td>\n",
       "    </tr>\n",
       "    <tr>\n",
       "      <th>Hernandez High School</th>\n",
       "      <td>District</td>\n",
       "      <td>4,635</td>\n",
       "      <td>$3,022,020</td>\n",
       "      <td>$652.0</td>\n",
       "      <td>77.29%</td>\n",
       "      <td>80.93%</td>\n",
       "    </tr>\n",
       "    <tr>\n",
       "      <th>Holden High School</th>\n",
       "      <td>Charter</td>\n",
       "      <td>427</td>\n",
       "      <td>$248,087</td>\n",
       "      <td>$581.0</td>\n",
       "      <td>83.80%</td>\n",
       "      <td>83.81%</td>\n",
       "    </tr>\n",
       "    <tr>\n",
       "      <th>Huang High School</th>\n",
       "      <td>District</td>\n",
       "      <td>2,917</td>\n",
       "      <td>$1,910,635</td>\n",
       "      <td>$655.0</td>\n",
       "      <td>76.63%</td>\n",
       "      <td>81.18%</td>\n",
       "    </tr>\n",
       "    <tr>\n",
       "      <th>Johnson High School</th>\n",
       "      <td>District</td>\n",
       "      <td>4,761</td>\n",
       "      <td>$3,094,650</td>\n",
       "      <td>$650.0</td>\n",
       "      <td>77.07%</td>\n",
       "      <td>80.97%</td>\n",
       "    </tr>\n",
       "    <tr>\n",
       "      <th>Pena High School</th>\n",
       "      <td>Charter</td>\n",
       "      <td>962</td>\n",
       "      <td>$585,858</td>\n",
       "      <td>$609.0</td>\n",
       "      <td>83.84%</td>\n",
       "      <td>84.04%</td>\n",
       "    </tr>\n",
       "    <tr>\n",
       "      <th>Rodriguez High School</th>\n",
       "      <td>District</td>\n",
       "      <td>3,999</td>\n",
       "      <td>$2,547,363</td>\n",
       "      <td>$637.0</td>\n",
       "      <td>76.84%</td>\n",
       "      <td>80.74%</td>\n",
       "    </tr>\n",
       "    <tr>\n",
       "      <th>Shelton High School</th>\n",
       "      <td>Charter</td>\n",
       "      <td>1,761</td>\n",
       "      <td>$1,056,600</td>\n",
       "      <td>$600.0</td>\n",
       "      <td>83.36%</td>\n",
       "      <td>83.73%</td>\n",
       "    </tr>\n",
       "    <tr>\n",
       "      <th>Thomas High School</th>\n",
       "      <td>Charter</td>\n",
       "      <td>1,635</td>\n",
       "      <td>$1,043,130</td>\n",
       "      <td>$638.0</td>\n",
       "      <td>83.42%</td>\n",
       "      <td>83.85%</td>\n",
       "    </tr>\n",
       "    <tr>\n",
       "      <th>Wilson High School</th>\n",
       "      <td>Charter</td>\n",
       "      <td>2,283</td>\n",
       "      <td>$1,319,574</td>\n",
       "      <td>$578.0</td>\n",
       "      <td>83.27%</td>\n",
       "      <td>83.99%</td>\n",
       "    </tr>\n",
       "    <tr>\n",
       "      <th>Wright High School</th>\n",
       "      <td>Charter</td>\n",
       "      <td>1,800</td>\n",
       "      <td>$1,049,400</td>\n",
       "      <td>$583.0</td>\n",
       "      <td>83.68%</td>\n",
       "      <td>83.95%</td>\n",
       "    </tr>\n",
       "  </tbody>\n",
       "</table>\n",
       "</div>"
      ],
      "text/plain": [
       "                      School Type Total Students Total School Budget  \\\n",
       "Bailey High School       District          4,976          $3,124,928   \n",
       "Cabrera High School       Charter          1,858          $1,081,356   \n",
       "Figueroa High School     District          2,949          $1,884,411   \n",
       "Ford High School         District          2,739          $1,763,916   \n",
       "Griffin High School       Charter          1,468            $917,500   \n",
       "Hernandez High School    District          4,635          $3,022,020   \n",
       "Holden High School        Charter            427            $248,087   \n",
       "Huang High School        District          2,917          $1,910,635   \n",
       "Johnson High School      District          4,761          $3,094,650   \n",
       "Pena High School          Charter            962            $585,858   \n",
       "Rodriguez High School    District          3,999          $2,547,363   \n",
       "Shelton High School       Charter          1,761          $1,056,600   \n",
       "Thomas High School        Charter          1,635          $1,043,130   \n",
       "Wilson High School        Charter          2,283          $1,319,574   \n",
       "Wright High School        Charter          1,800          $1,049,400   \n",
       "\n",
       "                      Per Student Budget Average Math Score  \\\n",
       "Bailey High School                $628.0             77.05%   \n",
       "Cabrera High School               $582.0             83.06%   \n",
       "Figueroa High School              $639.0             76.71%   \n",
       "Ford High School                  $644.0             77.10%   \n",
       "Griffin High School               $625.0             83.35%   \n",
       "Hernandez High School             $652.0             77.29%   \n",
       "Holden High School                $581.0             83.80%   \n",
       "Huang High School                 $655.0             76.63%   \n",
       "Johnson High School               $650.0             77.07%   \n",
       "Pena High School                  $609.0             83.84%   \n",
       "Rodriguez High School             $637.0             76.84%   \n",
       "Shelton High School               $600.0             83.36%   \n",
       "Thomas High School                $638.0             83.42%   \n",
       "Wilson High School                $578.0             83.27%   \n",
       "Wright High School                $583.0             83.68%   \n",
       "\n",
       "                      Average Reading Score  \n",
       "Bailey High School                   81.03%  \n",
       "Cabrera High School                  83.98%  \n",
       "Figueroa High School                 81.16%  \n",
       "Ford High School                     80.75%  \n",
       "Griffin High School                  83.82%  \n",
       "Hernandez High School                80.93%  \n",
       "Holden High School                   83.81%  \n",
       "Huang High School                    81.18%  \n",
       "Johnson High School                  80.97%  \n",
       "Pena High School                     84.04%  \n",
       "Rodriguez High School                80.74%  \n",
       "Shelton High School                  83.73%  \n",
       "Thomas High School                   83.85%  \n",
       "Wilson High School                   83.99%  \n",
       "Wright High School                   83.95%  "
      ]
     },
     "execution_count": 116,
     "metadata": {},
     "output_type": "execute_result"
    }
   ],
   "source": [
    "# create school summary \n",
    "\n",
    "school_summary = pd.DataFrame({\"School Type\": school_type_df,\n",
    "                               \"Total Students\": student_per_school_df,\n",
    "                               \"Total School Budget\": budget_per_school_df,\n",
    "                               \"Per Student Budget\": budget_per_student_df,\n",
    "                               \"Average Math Score\": avg_math_df,\n",
    "                               \"Average Reading Score\": avg_read_df})  \n",
    "\n",
    "# formatting                               \n",
    "\n",
    "#school_summary.style.format(pd.DataFrame).hide_index()\n",
    "school_summary[\"Total Students\"] = school_summary[\"Total Students\"].map(\"{:,}\".format)  # Format interable with a comma\n",
    "school_summary[\"Total School Budget\"] = school_summary[\"Total School Budget\"].map(\"${:,}\".format)  # Format interable with a $ and , \n",
    "school_summary[\"Per Student Budget\"] = school_summary[\"Per Student Budget\"].map(\"${:,}\".format)  # Format % and round to 2 decimal points\n",
    "school_summary[\"Average Math Score\"] = school_summary[\"Average Math Score\"].map(\"{:.2f}%\".format)  # Format % and round to 2 decimal points\n",
    "school_summary[\"Average Reading Score\"] = school_summary[\"Average Reading Score\"].map(\"{:.2f}%\".format)  # Format % and round to 2 decimal points\n",
    "#district_summary[\"% Passing Math\"] = district_summary[\"% Passing Math\"].map(\"{:.2f}%\".format)  # Format % and round to 2 decimal points\n",
    "#district_summary[\"% Passing Reading\"] = district_summary[\"% Passing Reading\"].map(\"{:.2f}%\".format)  # Format % and round to 2 decimal points\n",
    "#district_summary[\"% Overall Passing Rate\"] = district_summary[\"% Overall Passing Rate\"].map(\"{:.2f}%\".format)  # Format % and round to 2 decimal points\n",
    "                               \n",
    "school_summary.head(20)\n",
    "\n",
    "\n"
   ]
  },
  {
   "cell_type": "markdown",
   "metadata": {},
   "source": [
    "* Create an overview table that summarizes key metrics about each school, including:\n",
    "  * School Name\n",
    "  * School Type\n",
    "  * Total Students\n",
    "  * Total School Budget\n",
    "  * Per Student Budget\n",
    "  * Average Math Score\n",
    "  * Average Reading Score\n",
    "  * % Passing Math\n",
    "  * % Passing Reading\n",
    "  * % Overall Passing (The percentage of students that passed math **and** reading.)\n",
    "  \n",
    "* Create a dataframe to hold the above results"
   ]
  },
  {
   "cell_type": "markdown",
   "metadata": {},
   "source": [
    "## Top Performing Schools (By % Overall Passing)"
   ]
  },
  {
   "cell_type": "markdown",
   "metadata": {},
   "source": [
    "* Sort and display the top five performing schools by % overall passing."
   ]
  },
  {
   "cell_type": "code",
   "execution_count": null,
   "metadata": {
    "scrolled": true
   },
   "outputs": [],
   "source": []
  },
  {
   "cell_type": "markdown",
   "metadata": {},
   "source": [
    "## Bottom Performing Schools (By % Overall Passing)"
   ]
  },
  {
   "cell_type": "markdown",
   "metadata": {},
   "source": [
    "* Sort and display the five worst-performing schools by % overall passing."
   ]
  },
  {
   "cell_type": "code",
   "execution_count": null,
   "metadata": {},
   "outputs": [],
   "source": []
  },
  {
   "cell_type": "markdown",
   "metadata": {},
   "source": [
    "## Math Scores by Grade"
   ]
  },
  {
   "cell_type": "markdown",
   "metadata": {},
   "source": [
    "* Create a table that lists the average Reading Score for students of each grade level (9th, 10th, 11th, 12th) at each school.\n",
    "\n",
    "  * Create a pandas series for each grade. Hint: use a conditional statement.\n",
    "  \n",
    "  * Group each series by school\n",
    "  \n",
    "  * Combine the series into a dataframe\n",
    "  \n",
    "  * Optional: give the displayed data cleaner formatting"
   ]
  },
  {
   "cell_type": "code",
   "execution_count": null,
   "metadata": {},
   "outputs": [],
   "source": []
  },
  {
   "cell_type": "markdown",
   "metadata": {},
   "source": [
    "## Reading Score by Grade "
   ]
  },
  {
   "cell_type": "markdown",
   "metadata": {},
   "source": [
    "* Perform the same operations as above for reading scores"
   ]
  },
  {
   "cell_type": "code",
   "execution_count": null,
   "metadata": {},
   "outputs": [],
   "source": []
  },
  {
   "cell_type": "markdown",
   "metadata": {},
   "source": [
    "## Scores by School Spending"
   ]
  },
  {
   "cell_type": "markdown",
   "metadata": {},
   "source": [
    "* Create a table that breaks down school performances based on average Spending Ranges (Per Student). Use 4 reasonable bins to group school spending. Include in the table each of the following:\n",
    "  * Average Math Score\n",
    "  * Average Reading Score\n",
    "  * % Passing Math\n",
    "  * % Passing Reading\n",
    "  * Overall Passing Rate (Average of the above two)"
   ]
  },
  {
   "cell_type": "code",
   "execution_count": null,
   "metadata": {},
   "outputs": [],
   "source": []
  },
  {
   "cell_type": "markdown",
   "metadata": {},
   "source": [
    "## Scores by School Size"
   ]
  },
  {
   "cell_type": "markdown",
   "metadata": {},
   "source": [
    "* Perform the same operations as above, based on school size."
   ]
  },
  {
   "cell_type": "code",
   "execution_count": null,
   "metadata": {
    "scrolled": true
   },
   "outputs": [],
   "source": []
  },
  {
   "cell_type": "markdown",
   "metadata": {},
   "source": [
    "## Scores by School Type"
   ]
  },
  {
   "cell_type": "markdown",
   "metadata": {},
   "source": [
    "* Perform the same operations as above, based on school type"
   ]
  },
  {
   "cell_type": "code",
   "execution_count": null,
   "metadata": {},
   "outputs": [],
   "source": []
  },
  {
   "cell_type": "code",
   "execution_count": null,
   "metadata": {},
   "outputs": [],
   "source": []
  }
 ],
 "metadata": {
  "anaconda-cloud": {},
  "kernel_info": {
   "name": "python3"
  },
  "kernelspec": {
   "display_name": "Python [conda env:root] *",
   "language": "python",
   "name": "conda-root-py"
  },
  "language_info": {
   "codemirror_mode": {
    "name": "ipython",
    "version": 3
   },
   "file_extension": ".py",
   "mimetype": "text/x-python",
   "name": "python",
   "nbconvert_exporter": "python",
   "pygments_lexer": "ipython3",
   "version": "3.8.5"
  },
  "latex_envs": {
   "LaTeX_envs_menu_present": true,
   "autoclose": false,
   "autocomplete": true,
   "bibliofile": "biblio.bib",
   "cite_by": "apalike",
   "current_citInitial": 1,
   "eqLabelWithNumbers": true,
   "eqNumInitial": 1,
   "hotkeys": {
    "equation": "Ctrl-E",
    "itemize": "Ctrl-I"
   },
   "labels_anchors": false,
   "latex_user_defs": false,
   "report_style_numbering": false,
   "user_envs_cfg": false
  },
  "nteract": {
   "version": "0.8.4"
  }
 },
 "nbformat": 4,
 "nbformat_minor": 4
}
